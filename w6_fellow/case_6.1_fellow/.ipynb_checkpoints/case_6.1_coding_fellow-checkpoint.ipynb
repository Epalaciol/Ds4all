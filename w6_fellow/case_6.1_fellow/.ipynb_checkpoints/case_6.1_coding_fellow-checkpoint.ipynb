{
 "cells": [
  {
   "cell_type": "markdown",
   "id": "cf2c665d",
   "metadata": {
    "tags": [
     "27_min",
     "45_min"
    ]
   },
   "source": [
    "# What factors are driving pay discrimination between men and women in your organization?"
   ]
  },
  {
   "cell_type": "markdown",
   "id": "1c4ac042",
   "metadata": {},
   "source": [
    "In this case you will learn how to run linear regressions in Python, using the `statsmodels` library."
   ]
  },
  {
   "cell_type": "code",
   "execution_count": 2,
   "id": "aec67056",
   "metadata": {},
   "outputs": [
    {
     "name": "stdout",
     "output_type": "stream",
     "text": [
      "Requirement already satisfied: pandas in /opt/conda/lib/python3.8/site-packages (from -r requirements.txt (line 1)) (1.2.5)\n",
      "Collecting scipy\n",
      "  Using cached scipy-1.7.0-cp38-cp38-manylinux_2_5_x86_64.manylinux1_x86_64.whl (28.4 MB)\n",
      "Requirement already satisfied: numpy in /opt/conda/lib/python3.8/site-packages (from -r requirements.txt (line 3)) (1.20.3)\n",
      "Collecting matplotlib\n",
      "  Using cached matplotlib-3.4.2-cp38-cp38-manylinux1_x86_64.whl (10.3 MB)\n",
      "Collecting seaborn\n",
      "  Using cached seaborn-0.11.1-py3-none-any.whl (285 kB)\n",
      "Requirement already satisfied: plotly in /opt/conda/lib/python3.8/site-packages (from -r requirements.txt (line 6)) (5.0.0)\n",
      "Collecting statsmodels\n",
      "  Using cached statsmodels-0.12.2-cp38-cp38-manylinux1_x86_64.whl (9.4 MB)\n",
      "Requirement already satisfied: jupyter_dash in /opt/conda/lib/python3.8/site-packages (from -r requirements.txt (line 8)) (0.4.0)\n",
      "Requirement already satisfied: ipython in /opt/conda/lib/python3.8/site-packages (from jupyter_dash->-r requirements.txt (line 8)) (7.22.0)\n",
      "Requirement already satisfied: retrying in /opt/conda/lib/python3.8/site-packages (from jupyter_dash->-r requirements.txt (line 8)) (1.3.3)\n",
      "Requirement already satisfied: requests in /opt/conda/lib/python3.8/site-packages (from jupyter_dash->-r requirements.txt (line 8)) (2.25.1)\n",
      "Requirement already satisfied: flask in /opt/conda/lib/python3.8/site-packages (from jupyter_dash->-r requirements.txt (line 8)) (1.1.2)\n",
      "Requirement already satisfied: ansi2html in /opt/conda/lib/python3.8/site-packages (from jupyter_dash->-r requirements.txt (line 8)) (0.0.0)\n",
      "Requirement already satisfied: ipykernel in /opt/conda/lib/python3.8/site-packages (from jupyter_dash->-r requirements.txt (line 8)) (5.5.3)\n",
      "Requirement already satisfied: dash in /opt/conda/lib/python3.8/site-packages (from jupyter_dash->-r requirements.txt (line 8)) (1.20.0)\n",
      "Collecting pillow>=6.2.0\n",
      "  Using cached Pillow-8.3.1-cp38-cp38-manylinux_2_5_x86_64.manylinux1_x86_64.whl (3.0 MB)\n",
      "Requirement already satisfied: pyparsing>=2.2.1 in /opt/conda/lib/python3.8/site-packages (from matplotlib->-r requirements.txt (line 4)) (2.4.7)\n",
      "Requirement already satisfied: python-dateutil>=2.7 in /opt/conda/lib/python3.8/site-packages (from matplotlib->-r requirements.txt (line 4)) (2.8.1)\n",
      "Collecting kiwisolver>=1.0.1\n",
      "  Using cached kiwisolver-1.3.1-cp38-cp38-manylinux1_x86_64.whl (1.2 MB)\n",
      "Collecting cycler>=0.10\n",
      "  Using cached cycler-0.10.0-py2.py3-none-any.whl (6.5 kB)\n",
      "Requirement already satisfied: six in /opt/conda/lib/python3.8/site-packages (from cycler>=0.10->matplotlib->-r requirements.txt (line 4)) (1.15.0)\n",
      "Requirement already satisfied: pytz>=2017.3 in /opt/conda/lib/python3.8/site-packages (from pandas->-r requirements.txt (line 1)) (2021.1)\n",
      "Requirement already satisfied: tenacity>=6.2.0 in /opt/conda/lib/python3.8/site-packages (from plotly->-r requirements.txt (line 6)) (7.0.0)\n",
      "Collecting patsy>=0.5\n",
      "  Using cached patsy-0.5.1-py2.py3-none-any.whl (231 kB)\n",
      "Requirement already satisfied: future in /opt/conda/lib/python3.8/site-packages (from dash->jupyter_dash->-r requirements.txt (line 8)) (0.18.2)\n",
      "Requirement already satisfied: flask-compress in /opt/conda/lib/python3.8/site-packages (from dash->jupyter_dash->-r requirements.txt (line 8)) (0.0.0)\n",
      "Requirement already satisfied: dash-table==4.11.3 in /opt/conda/lib/python3.8/site-packages (from dash->jupyter_dash->-r requirements.txt (line 8)) (4.11.3)\n",
      "Requirement already satisfied: dash-renderer==1.9.1 in /opt/conda/lib/python3.8/site-packages (from dash->jupyter_dash->-r requirements.txt (line 8)) (1.9.1)\n",
      "Requirement already satisfied: dash-html-components==1.1.3 in /opt/conda/lib/python3.8/site-packages (from dash->jupyter_dash->-r requirements.txt (line 8)) (1.1.3)\n",
      "Requirement already satisfied: dash-core-components==1.16.0 in /opt/conda/lib/python3.8/site-packages (from dash->jupyter_dash->-r requirements.txt (line 8)) (1.16.0)\n",
      "Requirement already satisfied: Werkzeug>=0.15 in /opt/conda/lib/python3.8/site-packages (from flask->jupyter_dash->-r requirements.txt (line 8)) (2.0.1)\n",
      "Requirement already satisfied: itsdangerous>=0.24 in /opt/conda/lib/python3.8/site-packages (from flask->jupyter_dash->-r requirements.txt (line 8)) (2.0.1)\n",
      "Requirement already satisfied: Jinja2>=2.10.1 in /opt/conda/lib/python3.8/site-packages (from flask->jupyter_dash->-r requirements.txt (line 8)) (2.11.3)\n",
      "Requirement already satisfied: click>=5.1 in /opt/conda/lib/python3.8/site-packages (from flask->jupyter_dash->-r requirements.txt (line 8)) (8.0.1)\n",
      "Requirement already satisfied: MarkupSafe>=0.23 in /opt/conda/lib/python3.8/site-packages (from Jinja2>=2.10.1->flask->jupyter_dash->-r requirements.txt (line 8)) (1.1.1)\n",
      "Requirement already satisfied: brotli in /opt/conda/lib/python3.8/site-packages (from flask-compress->dash->jupyter_dash->-r requirements.txt (line 8)) (1.0.9)\n",
      "Requirement already satisfied: traitlets>=4.1.0 in /opt/conda/lib/python3.8/site-packages (from ipykernel->jupyter_dash->-r requirements.txt (line 8)) (5.0.5)\n",
      "Requirement already satisfied: jupyter-client in /opt/conda/lib/python3.8/site-packages (from ipykernel->jupyter_dash->-r requirements.txt (line 8)) (6.1.12)\n",
      "Requirement already satisfied: tornado>=4.2 in /opt/conda/lib/python3.8/site-packages (from ipykernel->jupyter_dash->-r requirements.txt (line 8)) (6.1)\n",
      "Requirement already satisfied: decorator in /opt/conda/lib/python3.8/site-packages (from ipython->jupyter_dash->-r requirements.txt (line 8)) (5.0.6)\n",
      "Requirement already satisfied: setuptools>=18.5 in /opt/conda/lib/python3.8/site-packages (from ipython->jupyter_dash->-r requirements.txt (line 8)) (49.6.0.post20210108)\n",
      "Requirement already satisfied: pickleshare in /opt/conda/lib/python3.8/site-packages (from ipython->jupyter_dash->-r requirements.txt (line 8)) (0.7.5)\n",
      "Requirement already satisfied: jedi>=0.16 in /opt/conda/lib/python3.8/site-packages (from ipython->jupyter_dash->-r requirements.txt (line 8)) (0.18.0)\n",
      "Requirement already satisfied: pygments in /opt/conda/lib/python3.8/site-packages (from ipython->jupyter_dash->-r requirements.txt (line 8)) (2.8.1)\n",
      "Requirement already satisfied: backcall in /opt/conda/lib/python3.8/site-packages (from ipython->jupyter_dash->-r requirements.txt (line 8)) (0.2.0)\n",
      "Requirement already satisfied: pexpect>4.3 in /opt/conda/lib/python3.8/site-packages (from ipython->jupyter_dash->-r requirements.txt (line 8)) (4.8.0)\n",
      "Requirement already satisfied: prompt-toolkit!=3.0.0,!=3.0.1,<3.1.0,>=2.0.0 in /opt/conda/lib/python3.8/site-packages (from ipython->jupyter_dash->-r requirements.txt (line 8)) (3.0.19)\n",
      "Requirement already satisfied: parso<0.9.0,>=0.8.0 in /opt/conda/lib/python3.8/site-packages (from jedi>=0.16->ipython->jupyter_dash->-r requirements.txt (line 8)) (0.8.2)\n",
      "Requirement already satisfied: ptyprocess>=0.5 in /opt/conda/lib/python3.8/site-packages (from pexpect>4.3->ipython->jupyter_dash->-r requirements.txt (line 8)) (0.7.0)\n",
      "Requirement already satisfied: wcwidth in /opt/conda/lib/python3.8/site-packages (from prompt-toolkit!=3.0.0,!=3.0.1,<3.1.0,>=2.0.0->ipython->jupyter_dash->-r requirements.txt (line 8)) (0.2.5)\n",
      "Requirement already satisfied: ipython-genutils in /opt/conda/lib/python3.8/site-packages (from traitlets>=4.1.0->ipykernel->jupyter_dash->-r requirements.txt (line 8)) (0.2.0)\n",
      "Requirement already satisfied: pyzmq>=13 in /opt/conda/lib/python3.8/site-packages (from jupyter-client->ipykernel->jupyter_dash->-r requirements.txt (line 8)) (22.0.3)\n",
      "Requirement already satisfied: jupyter-core>=4.6.0 in /opt/conda/lib/python3.8/site-packages (from jupyter-client->ipykernel->jupyter_dash->-r requirements.txt (line 8)) (4.7.1)\n",
      "Requirement already satisfied: chardet<5,>=3.0.2 in /opt/conda/lib/python3.8/site-packages (from requests->jupyter_dash->-r requirements.txt (line 8)) (4.0.0)\n",
      "Requirement already satisfied: certifi>=2017.4.17 in /opt/conda/lib/python3.8/site-packages (from requests->jupyter_dash->-r requirements.txt (line 8)) (2021.5.30)\n",
      "Requirement already satisfied: urllib3<1.27,>=1.21.1 in /opt/conda/lib/python3.8/site-packages (from requests->jupyter_dash->-r requirements.txt (line 8)) (1.26.4)\n",
      "Requirement already satisfied: idna<3,>=2.5 in /opt/conda/lib/python3.8/site-packages (from requests->jupyter_dash->-r requirements.txt (line 8)) (2.10)\n"
     ]
    },
    {
     "name": "stdout",
     "output_type": "stream",
     "text": [
      "Installing collected packages: pillow, kiwisolver, cycler, scipy, patsy, matplotlib, statsmodels, seaborn\n",
      "Successfully installed cycler-0.10.0 kiwisolver-1.3.1 matplotlib-3.4.2 patsy-0.5.1 pillow-8.3.1 scipy-1.7.0 seaborn-0.11.1 statsmodels-0.12.2\n"
     ]
    }
   ],
   "source": [
    "!pip install -r requirements.txt"
   ]
  },
  {
   "cell_type": "code",
   "execution_count": 3,
   "id": "0d8dc35a",
   "metadata": {},
   "outputs": [],
   "source": [
    "import pandas as pd\n",
    "import statsmodels.formula.api as sm"
   ]
  },
  {
   "cell_type": "markdown",
   "id": "962aff7b",
   "metadata": {
    "tags": [
     "2_min"
    ]
   },
   "source": [
    "## Loading our data\n",
    "\n",
    "As always, let's start by reading in our dataset and inspecting a few rows:"
   ]
  },
  {
   "cell_type": "code",
   "execution_count": null,
   "id": "1be15aef",
   "metadata": {},
   "outputs": [],
   "source": [
    "df = pd.read_csv('data/company_dataset.csv')"
   ]
  },
  {
   "cell_type": "code",
   "execution_count": null,
   "id": "4a5e2f3f",
   "metadata": {},
   "outputs": [],
   "source": [
    "df.head()"
   ]
  },
  {
   "cell_type": "markdown",
   "id": "30f8c155",
   "metadata": {
    "tags": [
     "20_min"
    ]
   },
   "source": [
    "## Simple linear regressions\n",
    "\n",
    "During lecture we ran this model, which we will now replicate using code:\n",
    "\n",
    "$$ PAY{\\_}YEARLY = \\beta_0 + \\beta_1 AGE{\\_}YEARS + \\varepsilon $$\n",
    "\n",
    "The first step is to transform the mathematical formula into a `statsmodels` formula. The syntax is as follows:\n",
    "\n",
    "~~~plain\n",
    "output_variable ~ input_variable\n",
    "~~~\n",
    "\n",
    "Thus, we will define our formula as:"
   ]
  },
  {
   "cell_type": "code",
   "execution_count": null,
   "id": "8298223b",
   "metadata": {},
   "outputs": [],
   "source": [
    "formula1 = 'pay_yearly ~ age_years'\n",
    "formula1"
   ]
  },
  {
   "cell_type": "markdown",
   "id": "abf891db",
   "metadata": {},
   "source": [
    "We used only the column names. There is no need to add the name of the DataFrame (`df`) just yet.\n",
    "\n",
    "After this, we create a `statsmodels` model with the [**`ols()`**](https://www.statsmodels.org/stable/generated/statsmodels.formula.api.ols.html) function. OLS stands for \"Ordinary Least Squares\", which is the name of the process that minimizes the sum of squared residuals (which we saw during lecture). It is here where we tell the library which DataFrame the variables belong to:"
   ]
  },
  {
   "cell_type": "code",
   "execution_count": null,
   "id": "aece910f",
   "metadata": {},
   "outputs": [],
   "source": [
    "model1 = sm.ols(formula = formula1, data = df)"
   ]
  },
  {
   "cell_type": "markdown",
   "id": "cc738943",
   "metadata": {},
   "source": [
    "Here we passed two arguments - the formula (in our case `formula = formula1`) and the DataFrame (`data = df`).\n",
    "\n",
    "The model does not do anything yet. It is only a computer representation of our model - it hasn't been fed any data yet, and therefore cannot produce coefficients or any other meaningful outputs. To actually fit the model to the data, we must call the `.fit()` method like this:"
   ]
  },
  {
   "cell_type": "code",
   "execution_count": null,
   "id": "6c07152f",
   "metadata": {},
   "outputs": [],
   "source": [
    "fitted1 = model1.fit()"
   ]
  },
  {
   "cell_type": "markdown",
   "id": "015b4d05",
   "metadata": {},
   "source": [
    "However, if you now simply call the `fitted1` variable or try to print it, you won't see any meaningful output:"
   ]
  },
  {
   "cell_type": "code",
   "execution_count": null,
   "id": "02201a4f",
   "metadata": {},
   "outputs": [],
   "source": [
    "fitted1"
   ]
  },
  {
   "cell_type": "code",
   "execution_count": null,
   "id": "1de6ccd0",
   "metadata": {},
   "outputs": [],
   "source": [
    "print(fitted1)"
   ]
  },
  {
   "cell_type": "markdown",
   "id": "2588b5de",
   "metadata": {},
   "source": [
    "To see the actual regression output, you have to call the [**`.summary()`**](https://medium.com/swlh/interpreting-linear-regression-through-statsmodels-summary-4796d359035a]) method and print it:"
   ]
  },
  {
   "cell_type": "code",
   "execution_count": null,
   "id": "135319c3",
   "metadata": {},
   "outputs": [],
   "source": [
    "print(fitted1.summary())"
   ]
  },
  {
   "cell_type": "markdown",
   "id": "b795ec7c",
   "metadata": {},
   "source": [
    "Now you can see your regression output! To summarize:\n",
    "\n",
    "1. You first define a `statsmodels` formula (`formula1 = 'pay_yearly ~ age_years'`)\n",
    "2. Then you pass the formula to `ols()` (`model1 = sm.ols(formula = formula1, data = df)`)\n",
    "3. After that, you fit the model with `.fit()` (`fitted1 = model1.fit()`)\n",
    "4. Finally, you print the output with the help of the `.summary()` method (`print(fitted1.summary())`)\n",
    "\n",
    "In just one cell:"
   ]
  },
  {
   "cell_type": "code",
   "execution_count": null,
   "id": "afb31c70",
   "metadata": {},
   "outputs": [],
   "source": [
    "formula1 = 'pay_yearly ~ age_years'\n",
    "model1 = sm.ols(formula = formula1, data = df)\n",
    "fitted1 = model1.fit()\n",
    "print(fitted1.summary())"
   ]
  },
  {
   "cell_type": "markdown",
   "id": "68218e82",
   "metadata": {},
   "source": [
    "You can also retrieve only a subset of the output:\n",
    "\n",
    "* `fitted1.params` gives you the coefficients\n",
    "* `fitted1.pvalues` gives you the $p$-values\n",
    "* `fitted1.rsquared` gives you the $R^2$"
   ]
  },
  {
   "cell_type": "code",
   "execution_count": null,
   "id": "7d7148e0",
   "metadata": {},
   "outputs": [],
   "source": [
    "fitted1.params"
   ]
  },
  {
   "cell_type": "code",
   "execution_count": null,
   "id": "051f4c16",
   "metadata": {},
   "outputs": [],
   "source": [
    "fitted1.pvalues"
   ]
  },
  {
   "cell_type": "code",
   "execution_count": null,
   "id": "7c6dddb1",
   "metadata": {},
   "outputs": [],
   "source": [
    "fitted1.rsquared"
   ]
  },
  {
   "cell_type": "markdown",
   "id": "f13816c4",
   "metadata": {},
   "source": [
    "For a full list of the attributes that you can retrieve, run `dir(fitted1)` (the [**`dir()`**](https://www.geeksforgeeks.org/python-dir-function) function in Python lets you inspect all the attributes of an object)."
   ]
  },
  {
   "cell_type": "markdown",
   "id": "02f6855a",
   "metadata": {
    "tags": [
     "3_min"
    ]
   },
   "source": [
    "## Multiple linear regression\n",
    "\n",
    "The steps to run these regressions in `statsmodels` are exactly the same as in the simple regression case, with a small change to the formula.\n",
    "\n",
    "This is one of the models we fitted during lecture:\n",
    "\n",
    "$$ PAY{\\_}YEARLY = \\beta_0 + \\beta_1 AGE{\\_}YEARS + \\beta_2 MALE{\\_}FEMALE  + \\varepsilon $$\n",
    "\n",
    "The corresponding `statsmodels` formula would be:"
   ]
  },
  {
   "cell_type": "code",
   "execution_count": null,
   "id": "0cf19869",
   "metadata": {},
   "outputs": [],
   "source": [
    "formula2 = 'pay_yearly ~ age_years + male_female'"
   ]
  },
  {
   "cell_type": "markdown",
   "id": "dc8b2ac1",
   "metadata": {},
   "source": [
    "That is, whenever you need to include a new input variable, you attach it to the formula using the `+` symbol. If you need to have more than two input variables, you can just keep appending `+` symbols:\n",
    "\n",
    "~~~plain\n",
    "output_variable ~ input_variable_1 + input_variable_2 + input_variable_3 + ...\n",
    "~~~"
   ]
  },
  {
   "cell_type": "markdown",
   "id": "f4f14936",
   "metadata": {
    "tags": [
     "5_min"
    ]
   },
   "source": [
    "### Exercise 1\n",
    "\n",
    "#### 1.1\n",
    "\n",
    "Using `formula2` above, create the variables `model2` and `fitted2` and print the output of your linear model."
   ]
  },
  {
   "cell_type": "markdown",
   "id": "8206dd77",
   "metadata": {
    "tags": [
     "ans_st"
    ]
   },
   "source": [
    "**Answer.**"
   ]
  },
  {
   "cell_type": "code",
   "execution_count": null,
   "id": "1a78aee7",
   "metadata": {},
   "outputs": [],
   "source": [
    "model2 = sm.ols(formula=formula2, data = df)\n"
   ]
  },
  {
   "cell_type": "markdown",
   "id": "9db69c94",
   "metadata": {},
   "source": [
    "-------"
   ]
  },
  {
   "cell_type": "markdown",
   "id": "96bce3b4",
   "metadata": {
    "tags": [
     "2_min"
    ]
   },
   "source": [
    "#### 1.2\n",
    "\n",
    "What is the $R^2$? (access it directly using the fitted model's attributes)."
   ]
  },
  {
   "cell_type": "markdown",
   "id": "780ca375",
   "metadata": {
    "tags": [
     "ans_st"
    ]
   },
   "source": [
    "**Answer.**"
   ]
  },
  {
   "cell_type": "markdown",
   "id": "689f0884",
   "metadata": {},
   "source": [
    "-------"
   ]
  },
  {
   "cell_type": "markdown",
   "id": "f60636da",
   "metadata": {
    "tags": [
     "6_min"
    ]
   },
   "source": [
    "### Exercise 2\n",
    "\n",
    "Code the following model and print its output (call it `model3`):\n",
    "\n",
    "$$\n",
    "PAY{\\_}YEARLY = \\beta_0 + \\beta_1 AGE{\\_}YEARS + \\beta_2 {MALE{\\_}FEMALE} + \\beta_3 EDUCATION + \\varepsilon\n",
    "$$"
   ]
  },
  {
   "cell_type": "markdown",
   "id": "f9d99c5d",
   "metadata": {
    "tags": [
     "ans_st"
    ]
   },
   "source": [
    "**Answer.**"
   ]
  },
  {
   "cell_type": "markdown",
   "id": "915aec3c",
   "metadata": {},
   "source": [
    "-------"
   ]
  },
  {
   "cell_type": "markdown",
   "id": "63c33487",
   "metadata": {
    "tags": [
     "2_min"
    ]
   },
   "source": [
    "Adding categorical variables to the model is very simple. You do not need to do anything special - you just include them as usual:"
   ]
  },
  {
   "cell_type": "code",
   "execution_count": null,
   "id": "3abb44a8",
   "metadata": {},
   "outputs": [],
   "source": [
    "formula4 = 'pay_yearly ~ job_title'\n",
    "model4 = sm.ols(formula = formula4, data = df)\n",
    "fitted4 = model4.fit()\n",
    "print(fitted4.summary())"
   ]
  },
  {
   "cell_type": "markdown",
   "id": "95d5b4b3",
   "metadata": {
    "tags": [
     "5_min"
    ]
   },
   "source": [
    "### Exercise 3\n",
    "\n",
    "Code the following model and print only the *coefficients* (call it `model5`):\n",
    "\n",
    "$$\n",
    "PAY{\\_}YEARLY = \\beta_0 + \\beta_1 AGE{\\_}YEARS + \\beta_2 {MALE{\\_}FEMALE} + \\beta_3 EDUCATION + \\beta_4 JOB{\\_}TITLE + \\varepsilon\n",
    "$$"
   ]
  },
  {
   "cell_type": "markdown",
   "id": "099fcb93",
   "metadata": {
    "tags": [
     "ans_st"
    ]
   },
   "source": [
    "**Answer.**"
   ]
  },
  {
   "cell_type": "markdown",
   "id": "f4dde282",
   "metadata": {},
   "source": [
    "-------"
   ]
  }
 ],
 "metadata": {
  "c1_recart": "6.10.0-57c20131aabc1dc2a8c675852d80a7da",
  "kernelspec": {
   "display_name": "Python 3",
   "language": "python",
   "name": "python3"
  },
  "language_info": {
   "codemirror_mode": {
    "name": "ipython",
    "version": 3
   },
   "file_extension": ".py",
   "mimetype": "text/x-python",
   "name": "python",
   "nbconvert_exporter": "python",
   "pygments_lexer": "ipython3",
   "version": "3.8.8"
  },
  "varInspector": {
   "cols": {
    "lenName": 16,
    "lenType": 16,
    "lenVar": 40
   },
   "kernels_config": {
    "python": {
     "delete_cmd_postfix": "",
     "delete_cmd_prefix": "del ",
     "library": "var_list.py",
     "varRefreshCmd": "print(var_dic_list())"
    },
    "r": {
     "delete_cmd_postfix": ") ",
     "delete_cmd_prefix": "rm(",
     "library": "var_list.r",
     "varRefreshCmd": "cat(var_dic_list()) "
    }
   },
   "types_to_exclude": [
    "module",
    "function",
    "builtin_function_or_method",
    "instance",
    "_Feature"
   ],
   "window_display": false
  }
 },
 "nbformat": 4,
 "nbformat_minor": 5
}
