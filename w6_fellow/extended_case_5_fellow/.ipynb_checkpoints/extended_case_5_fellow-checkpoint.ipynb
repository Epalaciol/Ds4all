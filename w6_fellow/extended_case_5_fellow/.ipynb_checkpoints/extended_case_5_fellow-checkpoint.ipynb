{
 "cells": [
  {
   "cell_type": "markdown",
   "metadata": {},
   "source": [
    "# How should I price auto insurance in the United States?"
   ]
  },
  {
   "cell_type": "markdown",
   "metadata": {},
   "source": [
    "## Introduction"
   ]
  },
  {
   "cell_type": "markdown",
   "metadata": {},
   "source": [
    "**Business Context.** The ability to price an insurance quote properly has a significant impact on insurers' management decisions and financial statements. You are the chief data scientist at a new startup insurance company focusing on providing affordable insurance to millennials. You are tasked to assess the current state of insurance companies to see what factors large insurance providers charge premiums for. Fortunately for you, your company has compiled a dataset by surveying what people currently pay for insurance from large companies. Your findings will be used as the basis of developing your company's millenial car insurance offering. \n",
    "\n",
    "**Business Problem.** Your task is to build a **minimal** model to predict the cost of insurance from the data set using various characteristics of a policyholder.\n",
    "\n",
    "**Analytical Context.** The data resides in a CSV file which has been pre-cleaned for you and can directly be read in. Throughout the case, you will be iterating on your initial model many times based on common pitfalls that arise which we discussed in previous cases. You will be using the Python `statsmodels` package to create and analyze these linear models."
   ]
  },
  {
   "cell_type": "code",
   "execution_count": 1,
   "metadata": {},
   "outputs": [
    {
     "name": "stdout",
     "output_type": "stream",
     "text": [
      "Collecting scipy\n",
      "  Downloading scipy-1.7.1-cp38-cp38-manylinux_2_5_x86_64.manylinux1_x86_64.whl (28.4 MB)\n",
      "\u001b[K     |████████████████████████████████| 28.4 MB 77 kB/s  eta 0:00:01|█████▊                          | 5.1 MB 4.2 MB/s eta 0:00:06K     |███████████▎                    | 10.0 MB 4.2 MB/s eta 0:00:05 |█████████████▎                  | 11.8 MB 4.2 MB/s eta 0:00:04\n",
      "\u001b[?25hRequirement already satisfied: pandas in /opt/conda/lib/python3.8/site-packages (from -r requirements.txt (line 2)) (1.2.5)\n",
      "Requirement already satisfied: numpy in /opt/conda/lib/python3.8/site-packages (from -r requirements.txt (line 3)) (1.20.3)\n",
      "Collecting seaborn\n",
      "  Using cached seaborn-0.11.1-py3-none-any.whl (285 kB)\n",
      "Collecting statsmodels\n",
      "  Using cached statsmodels-0.12.2-cp38-cp38-manylinux1_x86_64.whl (9.4 MB)\n",
      "Collecting pillow\n",
      "  Using cached Pillow-8.3.1-cp38-cp38-manylinux_2_5_x86_64.manylinux1_x86_64.whl (3.0 MB)\n",
      "Collecting matplotlib\n",
      "  Using cached matplotlib-3.4.2-cp38-cp38-manylinux1_x86_64.whl (10.3 MB)\n",
      "Requirement already satisfied: pyparsing>=2.2.1 in /opt/conda/lib/python3.8/site-packages (from matplotlib->-r requirements.txt (line 7)) (2.4.7)\n",
      "Requirement already satisfied: python-dateutil>=2.7 in /opt/conda/lib/python3.8/site-packages (from matplotlib->-r requirements.txt (line 7)) (2.8.1)\n",
      "Collecting kiwisolver>=1.0.1\n",
      "  Using cached kiwisolver-1.3.1-cp38-cp38-manylinux1_x86_64.whl (1.2 MB)\n",
      "Collecting cycler>=0.10\n",
      "  Using cached cycler-0.10.0-py2.py3-none-any.whl (6.5 kB)\n",
      "Requirement already satisfied: six in /opt/conda/lib/python3.8/site-packages (from cycler>=0.10->matplotlib->-r requirements.txt (line 7)) (1.15.0)\n",
      "Requirement already satisfied: pytz>=2017.3 in /opt/conda/lib/python3.8/site-packages (from pandas->-r requirements.txt (line 2)) (2021.1)\n",
      "Collecting patsy>=0.5\n",
      "  Using cached patsy-0.5.1-py2.py3-none-any.whl (231 kB)\n",
      "Installing collected packages: pillow, kiwisolver, cycler, scipy, patsy, matplotlib, statsmodels, seaborn\n",
      "Successfully installed cycler-0.10.0 kiwisolver-1.3.1 matplotlib-3.4.2 patsy-0.5.1 pillow-8.3.1 scipy-1.7.1 seaborn-0.11.1 statsmodels-0.12.2\n"
     ]
    }
   ],
   "source": [
    "! pip install -r requirements.txt"
   ]
  },
  {
   "cell_type": "code",
   "execution_count": 2,
   "metadata": {},
   "outputs": [],
   "source": [
    "### Load relevant packages\n",
    "\n",
    "import pandas                  as pd\n",
    "import numpy                   as np\n",
    "import matplotlib.pyplot       as plt\n",
    "import seaborn                 as sns\n",
    "import statsmodels.api         as sm\n",
    "import statsmodels.formula.api as smf\n",
    "import os\n",
    "\n",
    "# This statement allow to display plot without asking to \n",
    "%matplotlib inline\n",
    "\n",
    "# always make it pretty \n",
    "plt.style.use('ggplot')"
   ]
  },
  {
   "cell_type": "markdown",
   "metadata": {},
   "source": [
    "## Diving into the data"
   ]
  },
  {
   "cell_type": "code",
   "execution_count": 3,
   "metadata": {},
   "outputs": [],
   "source": [
    "df = pd.read_csv('Allstate-cost-cleaned.csv',\n",
    "    dtype = { # indicate categorical variables\n",
    "        'A': 'category',\n",
    "        'B': 'category',\n",
    "        'C': 'category',\n",
    "        'D': 'category',\n",
    "        'E': 'category',\n",
    "        'F': 'category',\n",
    "        'G': 'category',\n",
    "        'car_value': 'category',\n",
    "        'state': 'category'\n",
    "    }\n",
    ")"
   ]
  },
  {
   "cell_type": "markdown",
   "metadata": {},
   "source": [
    "The following are the columns in the dataset:\n",
    "\n",
    "1. **state**: State where shopping point occurred\n",
    "2. **group_size**: How many people will be covered under the policy (1, 2, 3 or 4) \n",
    "3. **homeowner**: Whether the customer owns a home (0=no, 1=yes)\n",
    "4. **car_age**: Age of the customer's car (How old the car is)\n",
    "5. **car_value**: Value of the car when it was new\n",
    "6. **risk_factor**: An ordinal assessment of how risky the customer is (0,1, 2, 3, 4) \n",
    "7. **age_oldest**: Age of the oldest person in customer's group\n",
    "8. **age_youngest**: Age of the youngest person in customer's group\n",
    "9. **married_couple**: Does the customer group contain a married couple (0=no, 1=yes) \n",
    "10. **C_previous**: What the customer formerly had or currently has for product option C (0=nothing, 1, 2, 3,4)\n",
    "11. **duration_previous**: How long (in years) the customer was covered by their previous issuer\n",
    "12. **A,B,C,D,E,F,G**: The coverage options:\n",
    "13. **A**: Collision (levels: 0, 1, 2);\n",
    "14. **B**: Towing (levels: 0, 1);\n",
    "15. **C**: Bodily Injury (BI, levels: 1, 2, 3, 4);\n",
    "16. **D**: Property Damage (PD, levels 1, 2, 3);\n",
    "17. **E**: Rental Reimbursement (RR, levels: 0, 1);\n",
    "18. **F**: Comprehensive (Comp, levels: 0, 1, 2, 3);\n",
    "19. **G**: Medical/Personal Injury Protection (Med/PIP, levels: 1, 2, 3, 4)\n",
    "20. **cost**: cost of the quoted coverage options "
   ]
  },
  {
   "cell_type": "code",
   "execution_count": 4,
   "metadata": {},
   "outputs": [
    {
     "data": {
      "text/html": [
       "<div>\n",
       "<style scoped>\n",
       "    .dataframe tbody tr th:only-of-type {\n",
       "        vertical-align: middle;\n",
       "    }\n",
       "\n",
       "    .dataframe tbody tr th {\n",
       "        vertical-align: top;\n",
       "    }\n",
       "\n",
       "    .dataframe thead th {\n",
       "        text-align: right;\n",
       "    }\n",
       "</style>\n",
       "<table border=\"1\" class=\"dataframe\">\n",
       "  <thead>\n",
       "    <tr style=\"text-align: right;\">\n",
       "      <th></th>\n",
       "      <th>Unnamed: 0</th>\n",
       "      <th>state</th>\n",
       "      <th>group_size</th>\n",
       "      <th>homeowner</th>\n",
       "      <th>car_age</th>\n",
       "      <th>car_value</th>\n",
       "      <th>risk_factor</th>\n",
       "      <th>age_oldest</th>\n",
       "      <th>age_youngest</th>\n",
       "      <th>married_couple</th>\n",
       "      <th>C_previous</th>\n",
       "      <th>duration_previous</th>\n",
       "      <th>A</th>\n",
       "      <th>B</th>\n",
       "      <th>C</th>\n",
       "      <th>D</th>\n",
       "      <th>E</th>\n",
       "      <th>F</th>\n",
       "      <th>G</th>\n",
       "      <th>cost</th>\n",
       "    </tr>\n",
       "  </thead>\n",
       "  <tbody>\n",
       "    <tr>\n",
       "      <th>0</th>\n",
       "      <td>0</td>\n",
       "      <td>OK</td>\n",
       "      <td>1</td>\n",
       "      <td>0</td>\n",
       "      <td>9</td>\n",
       "      <td>f</td>\n",
       "      <td>0.0</td>\n",
       "      <td>24</td>\n",
       "      <td>24</td>\n",
       "      <td>0</td>\n",
       "      <td>3.0</td>\n",
       "      <td>9.0</td>\n",
       "      <td>0</td>\n",
       "      <td>0</td>\n",
       "      <td>1</td>\n",
       "      <td>1</td>\n",
       "      <td>0</td>\n",
       "      <td>0</td>\n",
       "      <td>4</td>\n",
       "      <td>543</td>\n",
       "    </tr>\n",
       "    <tr>\n",
       "      <th>1</th>\n",
       "      <td>1</td>\n",
       "      <td>OK</td>\n",
       "      <td>1</td>\n",
       "      <td>0</td>\n",
       "      <td>9</td>\n",
       "      <td>f</td>\n",
       "      <td>0.0</td>\n",
       "      <td>24</td>\n",
       "      <td>24</td>\n",
       "      <td>0</td>\n",
       "      <td>3.0</td>\n",
       "      <td>9.0</td>\n",
       "      <td>2</td>\n",
       "      <td>1</td>\n",
       "      <td>1</td>\n",
       "      <td>3</td>\n",
       "      <td>1</td>\n",
       "      <td>3</td>\n",
       "      <td>2</td>\n",
       "      <td>611</td>\n",
       "    </tr>\n",
       "    <tr>\n",
       "      <th>2</th>\n",
       "      <td>2</td>\n",
       "      <td>PA</td>\n",
       "      <td>1</td>\n",
       "      <td>1</td>\n",
       "      <td>7</td>\n",
       "      <td>f</td>\n",
       "      <td>0.0</td>\n",
       "      <td>74</td>\n",
       "      <td>74</td>\n",
       "      <td>0</td>\n",
       "      <td>2.0</td>\n",
       "      <td>15.0</td>\n",
       "      <td>2</td>\n",
       "      <td>0</td>\n",
       "      <td>2</td>\n",
       "      <td>3</td>\n",
       "      <td>1</td>\n",
       "      <td>2</td>\n",
       "      <td>2</td>\n",
       "      <td>691</td>\n",
       "    </tr>\n",
       "    <tr>\n",
       "      <th>3</th>\n",
       "      <td>3</td>\n",
       "      <td>PA</td>\n",
       "      <td>1</td>\n",
       "      <td>1</td>\n",
       "      <td>7</td>\n",
       "      <td>f</td>\n",
       "      <td>0.0</td>\n",
       "      <td>74</td>\n",
       "      <td>74</td>\n",
       "      <td>0</td>\n",
       "      <td>2.0</td>\n",
       "      <td>15.0</td>\n",
       "      <td>2</td>\n",
       "      <td>0</td>\n",
       "      <td>2</td>\n",
       "      <td>3</td>\n",
       "      <td>1</td>\n",
       "      <td>2</td>\n",
       "      <td>2</td>\n",
       "      <td>695</td>\n",
       "    </tr>\n",
       "    <tr>\n",
       "      <th>4</th>\n",
       "      <td>4</td>\n",
       "      <td>AR</td>\n",
       "      <td>1</td>\n",
       "      <td>0</td>\n",
       "      <td>4</td>\n",
       "      <td>d</td>\n",
       "      <td>4.0</td>\n",
       "      <td>26</td>\n",
       "      <td>26</td>\n",
       "      <td>0</td>\n",
       "      <td>3.0</td>\n",
       "      <td>1.0</td>\n",
       "      <td>1</td>\n",
       "      <td>0</td>\n",
       "      <td>1</td>\n",
       "      <td>1</td>\n",
       "      <td>0</td>\n",
       "      <td>2</td>\n",
       "      <td>2</td>\n",
       "      <td>628</td>\n",
       "    </tr>\n",
       "    <tr>\n",
       "      <th>5</th>\n",
       "      <td>5</td>\n",
       "      <td>AR</td>\n",
       "      <td>1</td>\n",
       "      <td>0</td>\n",
       "      <td>4</td>\n",
       "      <td>d</td>\n",
       "      <td>4.0</td>\n",
       "      <td>26</td>\n",
       "      <td>26</td>\n",
       "      <td>0</td>\n",
       "      <td>3.0</td>\n",
       "      <td>1.0</td>\n",
       "      <td>1</td>\n",
       "      <td>0</td>\n",
       "      <td>2</td>\n",
       "      <td>1</td>\n",
       "      <td>0</td>\n",
       "      <td>2</td>\n",
       "      <td>2</td>\n",
       "      <td>625</td>\n",
       "    </tr>\n",
       "    <tr>\n",
       "      <th>6</th>\n",
       "      <td>6</td>\n",
       "      <td>AR</td>\n",
       "      <td>1</td>\n",
       "      <td>0</td>\n",
       "      <td>4</td>\n",
       "      <td>d</td>\n",
       "      <td>4.0</td>\n",
       "      <td>26</td>\n",
       "      <td>26</td>\n",
       "      <td>0</td>\n",
       "      <td>3.0</td>\n",
       "      <td>1.0</td>\n",
       "      <td>1</td>\n",
       "      <td>0</td>\n",
       "      <td>2</td>\n",
       "      <td>1</td>\n",
       "      <td>0</td>\n",
       "      <td>2</td>\n",
       "      <td>2</td>\n",
       "      <td>628</td>\n",
       "    </tr>\n",
       "    <tr>\n",
       "      <th>7</th>\n",
       "      <td>7</td>\n",
       "      <td>OK</td>\n",
       "      <td>1</td>\n",
       "      <td>0</td>\n",
       "      <td>13</td>\n",
       "      <td>f</td>\n",
       "      <td>3.0</td>\n",
       "      <td>22</td>\n",
       "      <td>22</td>\n",
       "      <td>0</td>\n",
       "      <td>0.0</td>\n",
       "      <td>0.0</td>\n",
       "      <td>0</td>\n",
       "      <td>0</td>\n",
       "      <td>1</td>\n",
       "      <td>1</td>\n",
       "      <td>0</td>\n",
       "      <td>0</td>\n",
       "      <td>2</td>\n",
       "      <td>596</td>\n",
       "    </tr>\n",
       "    <tr>\n",
       "      <th>8</th>\n",
       "      <td>8</td>\n",
       "      <td>OK</td>\n",
       "      <td>1</td>\n",
       "      <td>0</td>\n",
       "      <td>13</td>\n",
       "      <td>f</td>\n",
       "      <td>3.0</td>\n",
       "      <td>22</td>\n",
       "      <td>22</td>\n",
       "      <td>0</td>\n",
       "      <td>0.0</td>\n",
       "      <td>0.0</td>\n",
       "      <td>2</td>\n",
       "      <td>0</td>\n",
       "      <td>1</td>\n",
       "      <td>1</td>\n",
       "      <td>0</td>\n",
       "      <td>3</td>\n",
       "      <td>2</td>\n",
       "      <td>711</td>\n",
       "    </tr>\n",
       "    <tr>\n",
       "      <th>9</th>\n",
       "      <td>9</td>\n",
       "      <td>OK</td>\n",
       "      <td>1</td>\n",
       "      <td>0</td>\n",
       "      <td>13</td>\n",
       "      <td>f</td>\n",
       "      <td>3.0</td>\n",
       "      <td>22</td>\n",
       "      <td>22</td>\n",
       "      <td>0</td>\n",
       "      <td>0.0</td>\n",
       "      <td>0.0</td>\n",
       "      <td>2</td>\n",
       "      <td>0</td>\n",
       "      <td>1</td>\n",
       "      <td>1</td>\n",
       "      <td>0</td>\n",
       "      <td>3</td>\n",
       "      <td>2</td>\n",
       "      <td>722</td>\n",
       "    </tr>\n",
       "  </tbody>\n",
       "</table>\n",
       "</div>"
      ],
      "text/plain": [
       "   Unnamed: 0 state  group_size  homeowner  car_age car_value  risk_factor  \\\n",
       "0           0    OK           1          0        9         f          0.0   \n",
       "1           1    OK           1          0        9         f          0.0   \n",
       "2           2    PA           1          1        7         f          0.0   \n",
       "3           3    PA           1          1        7         f          0.0   \n",
       "4           4    AR           1          0        4         d          4.0   \n",
       "5           5    AR           1          0        4         d          4.0   \n",
       "6           6    AR           1          0        4         d          4.0   \n",
       "7           7    OK           1          0       13         f          3.0   \n",
       "8           8    OK           1          0       13         f          3.0   \n",
       "9           9    OK           1          0       13         f          3.0   \n",
       "\n",
       "   age_oldest  age_youngest  married_couple  C_previous  duration_previous  A  \\\n",
       "0          24            24               0         3.0                9.0  0   \n",
       "1          24            24               0         3.0                9.0  2   \n",
       "2          74            74               0         2.0               15.0  2   \n",
       "3          74            74               0         2.0               15.0  2   \n",
       "4          26            26               0         3.0                1.0  1   \n",
       "5          26            26               0         3.0                1.0  1   \n",
       "6          26            26               0         3.0                1.0  1   \n",
       "7          22            22               0         0.0                0.0  0   \n",
       "8          22            22               0         0.0                0.0  2   \n",
       "9          22            22               0         0.0                0.0  2   \n",
       "\n",
       "   B  C  D  E  F  G  cost  \n",
       "0  0  1  1  0  0  4   543  \n",
       "1  1  1  3  1  3  2   611  \n",
       "2  0  2  3  1  2  2   691  \n",
       "3  0  2  3  1  2  2   695  \n",
       "4  0  1  1  0  2  2   628  \n",
       "5  0  2  1  0  2  2   625  \n",
       "6  0  2  1  0  2  2   628  \n",
       "7  0  1  1  0  0  2   596  \n",
       "8  0  1  1  0  3  2   711  \n",
       "9  0  1  1  0  3  2   722  "
      ]
     },
     "execution_count": 4,
     "metadata": {},
     "output_type": "execute_result"
    }
   ],
   "source": [
    "df.head(10)"
   ]
  },
  {
   "cell_type": "code",
   "execution_count": 5,
   "metadata": {},
   "outputs": [],
   "source": [
    "df = df.drop('Unnamed: 0', axis=1)"
   ]
  },
  {
   "cell_type": "markdown",
   "metadata": {
    "tags": [
     "30_min"
    ]
   },
   "source": [
    "### Exercise 1:\n",
    "\n",
    "Write code to visualize the relationship between cost and the following variables. Choose your plots judiciously based on what you know about each variable. Different variable types (categorical vs. numerical) should have different types of plots (e.g. scatter, boxplot, violin plot, etc.) Group your plots together using the `plt.subplot()` function.\n",
    "\n",
    "1. `car_age`\n",
    "2. `age_oldest`\n",
    "3. `age_youngest`\n",
    "4. `duration_previous`\n",
    "5. `C_previous`\n",
    "6. `homeowner`\n",
    "7. `group_size`\n",
    "8. `car_age`\n",
    "9. Categories A-G (7 different plots)"
   ]
  },
  {
   "cell_type": "markdown",
   "metadata": {
    "tags": [
     "ans_st"
    ]
   },
   "source": [
    "**Answer.**"
   ]
  },
  {
   "cell_type": "code",
   "execution_count": null,
   "metadata": {},
   "outputs": [],
   "source": []
  },
  {
   "cell_type": "markdown",
   "metadata": {},
   "source": [
    "-------"
   ]
  },
  {
   "cell_type": "markdown",
   "metadata": {
    "tags": [
     "5_min"
    ]
   },
   "source": [
    "### Exercise 2:\n",
    "\n",
    "Convert all categorical data to be in the one-hot encoding format."
   ]
  },
  {
   "cell_type": "markdown",
   "metadata": {
    "tags": [
     "ans_st"
    ]
   },
   "source": [
    "**Answer.**"
   ]
  },
  {
   "cell_type": "code",
   "execution_count": 6,
   "metadata": {},
   "outputs": [
    {
     "data": {
      "text/plain": [
       "state                category\n",
       "group_size              int64\n",
       "homeowner               int64\n",
       "car_age                 int64\n",
       "car_value            category\n",
       "risk_factor           float64\n",
       "age_oldest              int64\n",
       "age_youngest            int64\n",
       "married_couple          int64\n",
       "C_previous            float64\n",
       "duration_previous     float64\n",
       "A                    category\n",
       "B                    category\n",
       "C                    category\n",
       "D                    category\n",
       "E                    category\n",
       "F                    category\n",
       "G                    category\n",
       "cost                    int64\n",
       "dtype: object"
      ]
     },
     "execution_count": 6,
     "metadata": {},
     "output_type": "execute_result"
    }
   ],
   "source": [
    "df.dtypes"
   ]
  },
  {
   "cell_type": "code",
   "execution_count": 7,
   "metadata": {},
   "outputs": [
    {
     "data": {
      "text/html": [
       "<div>\n",
       "<style scoped>\n",
       "    .dataframe tbody tr th:only-of-type {\n",
       "        vertical-align: middle;\n",
       "    }\n",
       "\n",
       "    .dataframe tbody tr th {\n",
       "        vertical-align: top;\n",
       "    }\n",
       "\n",
       "    .dataframe thead th {\n",
       "        text-align: right;\n",
       "    }\n",
       "</style>\n",
       "<table border=\"1\" class=\"dataframe\">\n",
       "  <thead>\n",
       "    <tr style=\"text-align: right;\">\n",
       "      <th></th>\n",
       "      <th>group_size</th>\n",
       "      <th>homeowner</th>\n",
       "      <th>car_age</th>\n",
       "      <th>risk_factor</th>\n",
       "      <th>age_oldest</th>\n",
       "      <th>age_youngest</th>\n",
       "      <th>married_couple</th>\n",
       "      <th>C_previous</th>\n",
       "      <th>duration_previous</th>\n",
       "      <th>cost</th>\n",
       "      <th>...</th>\n",
       "      <th>C_4</th>\n",
       "      <th>D_2</th>\n",
       "      <th>D_3</th>\n",
       "      <th>E_1</th>\n",
       "      <th>F_1</th>\n",
       "      <th>F_2</th>\n",
       "      <th>F_3</th>\n",
       "      <th>G_2</th>\n",
       "      <th>G_3</th>\n",
       "      <th>G_4</th>\n",
       "    </tr>\n",
       "  </thead>\n",
       "  <tbody>\n",
       "    <tr>\n",
       "      <th>0</th>\n",
       "      <td>1</td>\n",
       "      <td>0</td>\n",
       "      <td>9</td>\n",
       "      <td>0.0</td>\n",
       "      <td>24</td>\n",
       "      <td>24</td>\n",
       "      <td>0</td>\n",
       "      <td>3.0</td>\n",
       "      <td>9.0</td>\n",
       "      <td>543</td>\n",
       "      <td>...</td>\n",
       "      <td>0</td>\n",
       "      <td>0</td>\n",
       "      <td>0</td>\n",
       "      <td>0</td>\n",
       "      <td>0</td>\n",
       "      <td>0</td>\n",
       "      <td>0</td>\n",
       "      <td>0</td>\n",
       "      <td>0</td>\n",
       "      <td>1</td>\n",
       "    </tr>\n",
       "    <tr>\n",
       "      <th>1</th>\n",
       "      <td>1</td>\n",
       "      <td>0</td>\n",
       "      <td>9</td>\n",
       "      <td>0.0</td>\n",
       "      <td>24</td>\n",
       "      <td>24</td>\n",
       "      <td>0</td>\n",
       "      <td>3.0</td>\n",
       "      <td>9.0</td>\n",
       "      <td>611</td>\n",
       "      <td>...</td>\n",
       "      <td>0</td>\n",
       "      <td>0</td>\n",
       "      <td>1</td>\n",
       "      <td>1</td>\n",
       "      <td>0</td>\n",
       "      <td>0</td>\n",
       "      <td>1</td>\n",
       "      <td>1</td>\n",
       "      <td>0</td>\n",
       "      <td>0</td>\n",
       "    </tr>\n",
       "    <tr>\n",
       "      <th>2</th>\n",
       "      <td>1</td>\n",
       "      <td>1</td>\n",
       "      <td>7</td>\n",
       "      <td>0.0</td>\n",
       "      <td>74</td>\n",
       "      <td>74</td>\n",
       "      <td>0</td>\n",
       "      <td>2.0</td>\n",
       "      <td>15.0</td>\n",
       "      <td>691</td>\n",
       "      <td>...</td>\n",
       "      <td>0</td>\n",
       "      <td>0</td>\n",
       "      <td>1</td>\n",
       "      <td>1</td>\n",
       "      <td>0</td>\n",
       "      <td>1</td>\n",
       "      <td>0</td>\n",
       "      <td>1</td>\n",
       "      <td>0</td>\n",
       "      <td>0</td>\n",
       "    </tr>\n",
       "    <tr>\n",
       "      <th>3</th>\n",
       "      <td>1</td>\n",
       "      <td>1</td>\n",
       "      <td>7</td>\n",
       "      <td>0.0</td>\n",
       "      <td>74</td>\n",
       "      <td>74</td>\n",
       "      <td>0</td>\n",
       "      <td>2.0</td>\n",
       "      <td>15.0</td>\n",
       "      <td>695</td>\n",
       "      <td>...</td>\n",
       "      <td>0</td>\n",
       "      <td>0</td>\n",
       "      <td>1</td>\n",
       "      <td>1</td>\n",
       "      <td>0</td>\n",
       "      <td>1</td>\n",
       "      <td>0</td>\n",
       "      <td>1</td>\n",
       "      <td>0</td>\n",
       "      <td>0</td>\n",
       "    </tr>\n",
       "    <tr>\n",
       "      <th>4</th>\n",
       "      <td>1</td>\n",
       "      <td>0</td>\n",
       "      <td>4</td>\n",
       "      <td>4.0</td>\n",
       "      <td>26</td>\n",
       "      <td>26</td>\n",
       "      <td>0</td>\n",
       "      <td>3.0</td>\n",
       "      <td>1.0</td>\n",
       "      <td>628</td>\n",
       "      <td>...</td>\n",
       "      <td>0</td>\n",
       "      <td>0</td>\n",
       "      <td>0</td>\n",
       "      <td>0</td>\n",
       "      <td>0</td>\n",
       "      <td>1</td>\n",
       "      <td>0</td>\n",
       "      <td>1</td>\n",
       "      <td>0</td>\n",
       "      <td>0</td>\n",
       "    </tr>\n",
       "    <tr>\n",
       "      <th>...</th>\n",
       "      <td>...</td>\n",
       "      <td>...</td>\n",
       "      <td>...</td>\n",
       "      <td>...</td>\n",
       "      <td>...</td>\n",
       "      <td>...</td>\n",
       "      <td>...</td>\n",
       "      <td>...</td>\n",
       "      <td>...</td>\n",
       "      <td>...</td>\n",
       "      <td>...</td>\n",
       "      <td>...</td>\n",
       "      <td>...</td>\n",
       "      <td>...</td>\n",
       "      <td>...</td>\n",
       "      <td>...</td>\n",
       "      <td>...</td>\n",
       "      <td>...</td>\n",
       "      <td>...</td>\n",
       "      <td>...</td>\n",
       "      <td>...</td>\n",
       "    </tr>\n",
       "    <tr>\n",
       "      <th>15478</th>\n",
       "      <td>1</td>\n",
       "      <td>0</td>\n",
       "      <td>2</td>\n",
       "      <td>1.0</td>\n",
       "      <td>70</td>\n",
       "      <td>70</td>\n",
       "      <td>0</td>\n",
       "      <td>4.0</td>\n",
       "      <td>9.0</td>\n",
       "      <td>643</td>\n",
       "      <td>...</td>\n",
       "      <td>1</td>\n",
       "      <td>0</td>\n",
       "      <td>1</td>\n",
       "      <td>1</td>\n",
       "      <td>0</td>\n",
       "      <td>1</td>\n",
       "      <td>0</td>\n",
       "      <td>0</td>\n",
       "      <td>1</td>\n",
       "      <td>0</td>\n",
       "    </tr>\n",
       "    <tr>\n",
       "      <th>15479</th>\n",
       "      <td>1</td>\n",
       "      <td>0</td>\n",
       "      <td>2</td>\n",
       "      <td>1.0</td>\n",
       "      <td>70</td>\n",
       "      <td>70</td>\n",
       "      <td>0</td>\n",
       "      <td>4.0</td>\n",
       "      <td>9.0</td>\n",
       "      <td>643</td>\n",
       "      <td>...</td>\n",
       "      <td>1</td>\n",
       "      <td>0</td>\n",
       "      <td>1</td>\n",
       "      <td>1</td>\n",
       "      <td>0</td>\n",
       "      <td>1</td>\n",
       "      <td>0</td>\n",
       "      <td>0</td>\n",
       "      <td>1</td>\n",
       "      <td>0</td>\n",
       "    </tr>\n",
       "    <tr>\n",
       "      <th>15480</th>\n",
       "      <td>1</td>\n",
       "      <td>0</td>\n",
       "      <td>2</td>\n",
       "      <td>1.0</td>\n",
       "      <td>70</td>\n",
       "      <td>70</td>\n",
       "      <td>0</td>\n",
       "      <td>4.0</td>\n",
       "      <td>9.0</td>\n",
       "      <td>647</td>\n",
       "      <td>...</td>\n",
       "      <td>1</td>\n",
       "      <td>0</td>\n",
       "      <td>1</td>\n",
       "      <td>1</td>\n",
       "      <td>0</td>\n",
       "      <td>1</td>\n",
       "      <td>0</td>\n",
       "      <td>0</td>\n",
       "      <td>1</td>\n",
       "      <td>0</td>\n",
       "    </tr>\n",
       "    <tr>\n",
       "      <th>15481</th>\n",
       "      <td>1</td>\n",
       "      <td>1</td>\n",
       "      <td>0</td>\n",
       "      <td>3.0</td>\n",
       "      <td>25</td>\n",
       "      <td>25</td>\n",
       "      <td>0</td>\n",
       "      <td>2.0</td>\n",
       "      <td>6.0</td>\n",
       "      <td>642</td>\n",
       "      <td>...</td>\n",
       "      <td>0</td>\n",
       "      <td>0</td>\n",
       "      <td>1</td>\n",
       "      <td>0</td>\n",
       "      <td>0</td>\n",
       "      <td>0</td>\n",
       "      <td>0</td>\n",
       "      <td>1</td>\n",
       "      <td>0</td>\n",
       "      <td>0</td>\n",
       "    </tr>\n",
       "    <tr>\n",
       "      <th>15482</th>\n",
       "      <td>1</td>\n",
       "      <td>1</td>\n",
       "      <td>0</td>\n",
       "      <td>3.0</td>\n",
       "      <td>25</td>\n",
       "      <td>25</td>\n",
       "      <td>0</td>\n",
       "      <td>2.0</td>\n",
       "      <td>6.0</td>\n",
       "      <td>646</td>\n",
       "      <td>...</td>\n",
       "      <td>0</td>\n",
       "      <td>0</td>\n",
       "      <td>1</td>\n",
       "      <td>0</td>\n",
       "      <td>0</td>\n",
       "      <td>0</td>\n",
       "      <td>0</td>\n",
       "      <td>1</td>\n",
       "      <td>0</td>\n",
       "      <td>0</td>\n",
       "    </tr>\n",
       "  </tbody>\n",
       "</table>\n",
       "<p>15483 rows × 68 columns</p>\n",
       "</div>"
      ],
      "text/plain": [
       "       group_size  homeowner  car_age  risk_factor  age_oldest  age_youngest  \\\n",
       "0               1          0        9          0.0          24            24   \n",
       "1               1          0        9          0.0          24            24   \n",
       "2               1          1        7          0.0          74            74   \n",
       "3               1          1        7          0.0          74            74   \n",
       "4               1          0        4          4.0          26            26   \n",
       "...           ...        ...      ...          ...         ...           ...   \n",
       "15478           1          0        2          1.0          70            70   \n",
       "15479           1          0        2          1.0          70            70   \n",
       "15480           1          0        2          1.0          70            70   \n",
       "15481           1          1        0          3.0          25            25   \n",
       "15482           1          1        0          3.0          25            25   \n",
       "\n",
       "       married_couple  C_previous  duration_previous  cost  ...  C_4  D_2  \\\n",
       "0                   0         3.0                9.0   543  ...    0    0   \n",
       "1                   0         3.0                9.0   611  ...    0    0   \n",
       "2                   0         2.0               15.0   691  ...    0    0   \n",
       "3                   0         2.0               15.0   695  ...    0    0   \n",
       "4                   0         3.0                1.0   628  ...    0    0   \n",
       "...               ...         ...                ...   ...  ...  ...  ...   \n",
       "15478               0         4.0                9.0   643  ...    1    0   \n",
       "15479               0         4.0                9.0   643  ...    1    0   \n",
       "15480               0         4.0                9.0   647  ...    1    0   \n",
       "15481               0         2.0                6.0   642  ...    0    0   \n",
       "15482               0         2.0                6.0   646  ...    0    0   \n",
       "\n",
       "       D_3  E_1  F_1  F_2  F_3  G_2  G_3  G_4  \n",
       "0        0    0    0    0    0    0    0    1  \n",
       "1        1    1    0    0    1    1    0    0  \n",
       "2        1    1    0    1    0    1    0    0  \n",
       "3        1    1    0    1    0    1    0    0  \n",
       "4        0    0    0    1    0    1    0    0  \n",
       "...    ...  ...  ...  ...  ...  ...  ...  ...  \n",
       "15478    1    1    0    1    0    0    1    0  \n",
       "15479    1    1    0    1    0    0    1    0  \n",
       "15480    1    1    0    1    0    0    1    0  \n",
       "15481    1    0    0    0    0    1    0    0  \n",
       "15482    1    0    0    0    0    1    0    0  \n",
       "\n",
       "[15483 rows x 68 columns]"
      ]
     },
     "execution_count": 7,
     "metadata": {},
     "output_type": "execute_result"
    }
   ],
   "source": [
    "df_encoded = pd.get_dummies(df,columns=['car_value', 'state','A','B','C','D','E', 'F','G'], drop_first=True).copy()\n",
    "df_encoded"
   ]
  },
  {
   "cell_type": "markdown",
   "metadata": {},
   "source": [
    "-------"
   ]
  },
  {
   "cell_type": "markdown",
   "metadata": {},
   "source": [
    "## Fitting a multiple linear regression"
   ]
  },
  {
   "cell_type": "markdown",
   "metadata": {
    "tags": [
     "10_min"
    ]
   },
   "source": [
    "### Exercise 3:\n",
    "\n",
    "Split your data into training and testing sets (an 80-20 split is a good starting point).\n",
    "\n",
    "**Note:** Keep random seed as 1337 in the code cell"
   ]
  },
  {
   "cell_type": "markdown",
   "metadata": {
    "tags": [
     "ans_st"
    ]
   },
   "source": [
    "**Answer.**"
   ]
  },
  {
   "cell_type": "code",
   "execution_count": 8,
   "metadata": {},
   "outputs": [
    {
     "name": "stdout",
     "output_type": "stream",
     "text": [
      "(12386, 19)\n",
      "(3097, 19)\n"
     ]
    }
   ],
   "source": [
    "np.random.seed(1337) \n",
    "\n",
    "ndata = len(df)\n",
    "\n",
    "idx_train = np.random.choice(range(ndata),int(0.8*ndata),replace=False)\n",
    "\n",
    "idx_test  = np.asarray(list(set(range(ndata)) - set(idx_train)))\n",
    "train     = df.iloc[idx_train] # the training data set\n",
    "test      = df.iloc[idx_test]  # the test data set\n",
    "print(train.shape) \n",
    "print(test.shape)  "
   ]
  },
  {
   "cell_type": "markdown",
   "metadata": {},
   "source": [
    "-------"
   ]
  },
  {
   "cell_type": "markdown",
   "metadata": {
    "tags": [
     "30_min"
    ]
   },
   "source": [
    "### Exercise 4:\n",
    "\n",
    "#### 4.1\n",
    "\n",
    "Fit a multiple linear regression model to the training data regressing cost against all the other variables. Call this `model_all`. What is the AIC value?"
   ]
  },
  {
   "cell_type": "markdown",
   "metadata": {
    "tags": [
     "ans_st"
    ]
   },
   "source": [
    "**Answer.**"
   ]
  },
  {
   "cell_type": "code",
   "execution_count": 9,
   "metadata": {},
   "outputs": [
    {
     "data": {
      "text/plain": [
       "'cost ~  group_size + homeowner + car_age + risk_factor + age_oldest + age_youngest + married_couple + C_previous + duration_previous + car_value_b + car_value_c + car_value_d + car_value_e + car_value_f + car_value_g + car_value_h + car_value_i + state_AR + state_CO + state_CT + state_DC + state_DE + state_FL + state_GA + state_IA + state_ID + state_IN + state_KS + state_KY + state_MD + state_ME + state_MO + state_MS + state_MT + state_ND + state_NE + state_NH + state_NM + state_NV + state_NY + state_OH + state_OK + state_OR + state_PA + state_RI + state_SD + state_TN + state_UT + state_WA + state_WI + state_WV + state_WY + A_1 + A_2 + B_1 + C_2 + C_3 + C_4 + D_2 + D_3 + E_1 + F_1 + F_2 + F_3 + G_2 + G_3 + G_4'"
      ]
     },
     "execution_count": 9,
     "metadata": {},
     "output_type": "execute_result"
    }
   ],
   "source": [
    "formula_all = \"cost ~ \"\n",
    "\n",
    "for i in df_encoded.columns:\n",
    "    if i in ('cost' ):\n",
    "        pass\n",
    "    else:\n",
    "        formula_all += f\" {i} +\"\n",
    "        \n",
    "formula_all = formula_all[:-2]\n",
    "formula_all"
   ]
  },
  {
   "cell_type": "code",
   "execution_count": 10,
   "metadata": {},
   "outputs": [
    {
     "name": "stdout",
     "output_type": "stream",
     "text": [
      "                            OLS Regression Results                            \n",
      "==============================================================================\n",
      "Dep. Variable:                   cost   R-squared:                       0.438\n",
      "Model:                            OLS   Adj. R-squared:                  0.436\n",
      "Method:                 Least Squares   F-statistic:                     179.4\n",
      "Date:                Mon, 02 Aug 2021   Prob (F-statistic):               0.00\n",
      "Time:                        02:21:05   Log-Likelihood:                -77228.\n",
      "No. Observations:               15483   AIC:                         1.546e+05\n",
      "Df Residuals:                   15415   BIC:                         1.551e+05\n",
      "Df Model:                          67                                         \n",
      "Covariance Type:            nonrobust                                         \n",
      "=====================================================================================\n",
      "                        coef    std err          t      P>|t|      [0.025      0.975]\n",
      "-------------------------------------------------------------------------------------\n",
      "Intercept           675.4716      4.984    135.529      0.000     665.702     685.241\n",
      "group_size            3.1138      1.324      2.352      0.019       0.519       5.708\n",
      "homeowner           -14.3674      0.652    -22.034      0.000     -15.646     -13.089\n",
      "car_age              -0.7299      0.060    -12.159      0.000      -0.848      -0.612\n",
      "risk_factor          -0.6129      0.205     -2.992      0.003      -1.014      -0.211\n",
      "age_oldest            0.5899      0.057     10.372      0.000       0.478       0.701\n",
      "age_youngest         -0.9859      0.056    -17.719      0.000      -1.095      -0.877\n",
      "married_couple       -9.8212      1.250     -7.860      0.000     -12.270      -7.372\n",
      "C_previous           -6.1804      0.322    -19.207      0.000      -6.811      -5.550\n",
      "duration_previous    -1.5081      0.065    -23.103      0.000      -1.636      -1.380\n",
      "car_value_b         -56.9777      7.083     -8.044      0.000     -70.861     -43.094\n",
      "car_value_c         -45.5750      4.481    -10.171      0.000     -54.358     -36.792\n",
      "car_value_d         -39.5906      4.284     -9.242      0.000     -47.987     -31.194\n",
      "car_value_e         -39.6168      4.262     -9.295      0.000     -47.971     -31.263\n",
      "car_value_f         -39.8493      4.277     -9.318      0.000     -48.232     -31.466\n",
      "car_value_g         -35.5735      4.314     -8.245      0.000     -44.030     -27.117\n",
      "car_value_h         -27.8630      4.488     -6.208      0.000     -36.660     -19.066\n",
      "car_value_i          -5.6405      5.674     -0.994      0.320     -16.762       5.481\n",
      "state_AR              1.3792      2.781      0.496      0.620      -4.072       6.830\n",
      "state_CO             -9.2945      2.285     -4.067      0.000     -13.774      -4.815\n",
      "state_CT             31.6011      2.572     12.289      0.000      26.560      36.642\n",
      "state_DC             36.7804      4.334      8.487      0.000      28.286      45.275\n",
      "state_DE             37.1779      4.118      9.029      0.000      29.107      45.249\n",
      "state_FL             12.4637      1.923      6.480      0.000       8.694      16.234\n",
      "state_GA              8.6374      2.124      4.066      0.000       4.474      12.801\n",
      "state_IA            -50.5828      3.112    -16.255      0.000     -56.682     -44.483\n",
      "state_ID            -18.3619      3.675     -4.997      0.000     -25.565     -11.159\n",
      "state_IN            -11.2057      2.288     -4.897      0.000     -15.691      -6.720\n",
      "state_KS             -7.3087      3.909     -1.870      0.062     -14.972       0.354\n",
      "state_KY             20.3275      2.546      7.985      0.000      15.338      25.317\n",
      "state_MD             23.5796      2.214     10.649      0.000      19.239      27.920\n",
      "state_ME            -33.5905      3.527     -9.525      0.000     -40.503     -26.678\n",
      "state_MO            -21.7142      2.631     -8.253      0.000     -26.871     -16.557\n",
      "state_MS             -1.3817      2.926     -0.472      0.637      -7.118       4.354\n",
      "state_MT            -11.2014      5.322     -2.105      0.035     -21.633      -0.770\n",
      "state_ND             13.1514      5.460      2.409      0.016       2.449      23.854\n",
      "state_NE            -12.8292      4.863     -2.638      0.008     -22.361      -3.297\n",
      "state_NH            -19.5094      3.378     -5.775      0.000     -26.131     -12.887\n",
      "state_NM             -1.5936      3.366     -0.473      0.636      -8.191       5.003\n",
      "state_NV             23.7016      2.505      9.461      0.000      18.791      28.612\n",
      "state_NY             39.7512      2.155     18.442      0.000      35.526      43.976\n",
      "state_OH             -7.5855      2.062     -3.679      0.000     -11.627      -3.544\n",
      "state_OK            -10.5090      2.451     -4.287      0.000     -15.314      -5.704\n",
      "state_OR             -7.1151      2.535     -2.807      0.005     -12.083      -2.147\n",
      "state_PA              9.9049      1.966      5.038      0.000       6.051      13.759\n",
      "state_RI             26.8840      3.703      7.260      0.000      19.626      34.142\n",
      "state_SD            -16.7304     11.985     -1.396      0.163     -40.222       6.762\n",
      "state_TN            -10.9344      2.330     -4.693      0.000     -15.501      -6.368\n",
      "state_UT            -17.5749      2.510     -7.003      0.000     -22.494     -12.656\n",
      "state_WA              4.7720      2.304      2.071      0.038       0.256       9.288\n",
      "state_WI            -31.6410      2.665    -11.873      0.000     -36.864     -26.417\n",
      "state_WV             27.2028      3.854      7.058      0.000      19.648      34.758\n",
      "state_WY             -4.6620      6.088     -0.766      0.444     -16.595       7.271\n",
      "A_1                  27.5493      1.377     20.008      0.000      24.850      30.248\n",
      "A_2                  32.7259      1.648     19.860      0.000      29.496      35.956\n",
      "B_1                   2.0272      0.706      2.873      0.004       0.644       3.410\n",
      "C_2                   0.6007      1.001      0.600      0.548      -1.361       2.563\n",
      "C_3                   0.9439      1.039      0.909      0.364      -1.092       2.980\n",
      "C_4                   3.2265      1.555      2.075      0.038       0.178       6.275\n",
      "D_2                  -1.0953      1.069     -1.024      0.306      -3.191       1.001\n",
      "D_3                  -1.3130      1.113     -1.180      0.238      -3.495       0.869\n",
      "E_1                   8.1809      0.777     10.533      0.000       6.658       9.703\n",
      "F_1                  17.8610      1.505     11.865      0.000      14.910      20.812\n",
      "F_2                  16.4446      1.447     11.367      0.000      13.609      19.280\n",
      "F_3                  12.0124      2.098      5.726      0.000       7.901      16.124\n",
      "G_2                   8.7956      0.842     10.448      0.000       7.145      10.446\n",
      "G_3                   0.9440      1.061      0.890      0.374      -1.136       3.024\n",
      "G_4                   4.6664      1.128      4.135      0.000       2.454       6.878\n",
      "==============================================================================\n",
      "Omnibus:                      699.843   Durbin-Watson:                   0.769\n",
      "Prob(Omnibus):                  0.000   Jarque-Bera (JB):             1772.348\n",
      "Skew:                           0.247   Prob(JB):                         0.00\n",
      "Kurtosis:                       4.582   Cond. No.                     3.10e+03\n",
      "==============================================================================\n",
      "\n",
      "Notes:\n",
      "[1] Standard Errors assume that the covariance matrix of the errors is correctly specified.\n",
      "[2] The condition number is large, 3.1e+03. This might indicate that there are\n",
      "strong multicollinearity or other numerical problems.\n"
     ]
    }
   ],
   "source": [
    "model_all = smf.ols(formula=formula_all, data= df_encoded).fit()\n",
    "\n",
    "print(model_all.summary())"
   ]
  },
  {
   "cell_type": "markdown",
   "metadata": {},
   "source": [
    "-------"
   ]
  },
  {
   "cell_type": "markdown",
   "metadata": {},
   "source": [
    "#### 4.2 \n",
    "\n",
    "According to `model_all`, which states are most and least expensive?"
   ]
  },
  {
   "cell_type": "markdown",
   "metadata": {
    "tags": [
     "ans_st"
    ]
   },
   "source": [
    "**Answer.**"
   ]
  },
  {
   "cell_type": "code",
   "execution_count": 11,
   "metadata": {},
   "outputs": [
    {
     "name": "stdout",
     "output_type": "stream",
     "text": [
      "Intercept    675.471601\n",
      "state_NY      39.751177\n",
      "state_DE      37.177927\n",
      "state_DC      36.780392\n",
      "A_2           32.725870\n",
      "state_CT      31.601078\n",
      "A_1           27.549317\n",
      "state_WV      27.202818\n",
      "state_RI      26.884047\n",
      "state_NV      23.701646\n",
      "dtype: float64 \n",
      "\n"
     ]
    },
    {
     "data": {
      "text/plain": [
       "car_value_h   -27.862960\n",
       "state_WI      -31.640965\n",
       "state_ME      -33.590503\n",
       "car_value_g   -35.573458\n",
       "car_value_d   -39.590594\n",
       "car_value_e   -39.616808\n",
       "car_value_f   -39.849312\n",
       "car_value_c   -45.574971\n",
       "state_IA      -50.582827\n",
       "car_value_b   -56.977730\n",
       "dtype: float64"
      ]
     },
     "execution_count": 11,
     "metadata": {},
     "output_type": "execute_result"
    }
   ],
   "source": [
    "print(model_all.params.sort_values(ascending=False)[0:10], '\\n')\n",
    "\n",
    "model_all.params.sort_values(ascending=False)[58:68]\n"
   ]
  },
  {
   "cell_type": "markdown",
   "metadata": {},
   "source": [
    "The most expensive car insurance are in  New York (NY), Delaware (DE) and District of Columbia (DC) States\n",
    "\n",
    "The least expensive car insurance are in Iowa(IA), Maine(ME) and Wisconsin(WI) states."
   ]
  },
  {
   "cell_type": "markdown",
   "metadata": {},
   "source": [
    "-------"
   ]
  },
  {
   "cell_type": "markdown",
   "metadata": {},
   "source": [
    "#### 4.3\n",
    "\n",
    "Interpret the coefficients of `group_size`, `homeowner`, `car_age`, `risk_factor`, `age_oldest`, `age_youngest`       `married_couple` , `duration_previous`. Do the signs and values of these coefficients make sense to you in the context of this business problem?"
   ]
  },
  {
   "cell_type": "markdown",
   "metadata": {
    "tags": [
     "ans_st"
    ]
   },
   "source": [
    "**Answer.**"
   ]
  },
  {
   "cell_type": "code",
   "execution_count": 12,
   "metadata": {},
   "outputs": [
    {
     "data": {
      "text/plain": [
       "group_size            3.113752\n",
       "homeowner           -14.367412\n",
       "car_age              -0.729927\n",
       "age_oldest            0.589880\n",
       "age_youngest         -0.985884\n",
       "married_couple       -9.821222\n",
       "duration_previous    -1.508108\n",
       "dtype: float64"
      ]
     },
     "execution_count": 12,
     "metadata": {},
     "output_type": "execute_result"
    }
   ],
   "source": [
    "model_all.params[['group_size', \n",
    "                  'homeowner', \n",
    "                  'car_age', \n",
    "                  'age_oldest', \n",
    "                  'age_youngest', \n",
    "                  'married_couple', \n",
    "                  'duration_previous'\n",
    "                 ]]"
   ]
  },
  {
   "cell_type": "markdown",
   "metadata": {},
   "source": [
    "The coefficients and their sign are almost all expected, but car_age is unexpected because in terms of insurance we think and hear that if the car model is old the insurance increases but for this model it does not apply. Also a curious fact is that if we are homeowners the insurance decreases a considerable amount."
   ]
  },
  {
   "cell_type": "markdown",
   "metadata": {},
   "source": [
    "-------"
   ]
  },
  {
   "cell_type": "markdown",
   "metadata": {
    "tags": [
     "15_min"
    ]
   },
   "source": [
    "### Exercise 5:\n",
    "\n",
    "Which variables from `model_all` are statistically significant? (For categorical variables, consider them to be significant if at least one of their categories are statistically significant). Refit the model using only these variables; call this `model_sig`. How does this model compare to the previous model?"
   ]
  },
  {
   "cell_type": "markdown",
   "metadata": {
    "tags": [
     "ans_st"
    ]
   },
   "source": [
    "**Answer.**"
   ]
  },
  {
   "cell_type": "code",
   "execution_count": 17,
   "metadata": {},
   "outputs": [
    {
     "name": "stdout",
     "output_type": "stream",
     "text": [
      "group_size     0.018665\n",
      "risk_factor    0.002773\n",
      "car_value_i    0.320186\n",
      "state_AR       0.619939\n",
      "state_KS       0.061570\n",
      "state_MS       0.636833\n",
      "state_MT       0.035332\n",
      "state_ND       0.016023\n",
      "state_NE       0.008343\n",
      "state_NM       0.635879\n",
      "state_OR       0.005005\n",
      "state_SD       0.162752\n",
      "state_WA       0.038341\n",
      "state_WY       0.443805\n",
      "B_1            0.004076\n",
      "C_2            0.548479\n",
      "C_3            0.363510\n",
      "C_4            0.038018\n",
      "D_2            0.305683\n",
      "D_3            0.238153\n",
      "G_3            0.373691\n",
      "dtype: float64\n"
     ]
    }
   ],
   "source": [
    "sign_variables = model_all.pvalues[(model_all.pvalues > 0.05/len(model_all.params))]\n",
    "print(sign_variables)\n",
    "\n"
   ]
  },
  {
   "cell_type": "code",
   "execution_count": 24,
   "metadata": {
    "scrolled": true
   },
   "outputs": [
    {
     "name": "stdout",
     "output_type": "stream",
     "text": [
      "                            OLS Regression Results                            \n",
      "==============================================================================\n",
      "Dep. Variable:                   cost   R-squared:                       0.036\n",
      "Model:                            OLS   Adj. R-squared:                  0.034\n",
      "Method:                 Least Squares   F-statistic:                     27.20\n",
      "Date:                Mon, 02 Aug 2021   Prob (F-statistic):          2.31e-105\n",
      "Time:                        02:42:18   Log-Likelihood:                -81411.\n",
      "No. Observations:               15483   AIC:                         1.629e+05\n",
      "Df Residuals:                   15461   BIC:                         1.630e+05\n",
      "Df Model:                          21                                         \n",
      "Covariance Type:            nonrobust                                         \n",
      "===============================================================================\n",
      "                  coef    std err          t      P>|t|      [0.025      0.975]\n",
      "-------------------------------------------------------------------------------\n",
      "Intercept     629.8968      1.429    440.744      0.000     627.095     632.698\n",
      "group_size     -2.0001      0.828     -2.415      0.016      -3.623      -0.377\n",
      "risk_factor    -0.2192      0.248     -0.884      0.377      -0.705       0.267\n",
      "car_value_i    39.8113      4.878      8.161      0.000      30.250      49.373\n",
      "state_AR       -2.4065      2.975     -0.809      0.419      -8.239       3.426\n",
      "state_KS      -11.4248      4.632     -2.466      0.014     -20.505      -2.345\n",
      "state_MS       -7.7270      3.209     -2.408      0.016     -14.017      -1.437\n",
      "state_MT      -11.0045      6.597     -1.668      0.095     -23.935       1.926\n",
      "state_ND       18.8049      6.747      2.787      0.005       5.581      32.029\n",
      "state_NE      -25.3609      5.977     -4.243      0.000     -37.077     -13.645\n",
      "state_NM      -11.6378      3.871     -3.007      0.003     -19.225      -4.051\n",
      "state_OR      -12.3085      2.515     -4.895      0.000     -17.238      -7.379\n",
      "state_SD      -30.1374     15.525     -1.941      0.052     -60.568       0.293\n",
      "state_WA       -1.8618      2.102     -0.886      0.376      -5.982       2.258\n",
      "state_WY      -13.9286      7.668     -1.816      0.069     -28.959       1.102\n",
      "B_1            14.8653      0.769     19.323      0.000      13.357      16.373\n",
      "C_2            -5.1171      1.233     -4.151      0.000      -7.534      -2.701\n",
      "C_3            -4.9001      1.193     -4.109      0.000      -7.238      -2.562\n",
      "C_4            -8.9971      1.745     -5.155      0.000     -12.418      -5.576\n",
      "D_2             5.9730      1.369      4.364      0.000       3.290       8.656\n",
      "D_3             6.4158      1.407      4.559      0.000       3.658       9.174\n",
      "G_3            -1.5908      0.875     -1.818      0.069      -3.306       0.125\n",
      "==============================================================================\n",
      "Omnibus:                      205.216   Durbin-Watson:                   0.778\n",
      "Prob(Omnibus):                  0.000   Jarque-Bera (JB):              274.622\n",
      "Skew:                           0.185   Prob(JB):                     2.33e-60\n",
      "Kurtosis:                       3.538   Cond. No.                         112.\n",
      "==============================================================================\n",
      "\n",
      "Notes:\n",
      "[1] Standard Errors assume that the covariance matrix of the errors is correctly specified.\n"
     ]
    }
   ],
   "source": [
    "formula_sign = \"cost ~ \"\n",
    "for i in sign_variables.index:\n",
    "    formula_sign += f\" {i} +\"\n",
    "    \n",
    "formula_sign = formula_sign[:-2]\n",
    "\n",
    "model_sign = smf.ols(formula=formula_sign, data= df_encoded).fit()\n",
    "\n",
    "print(model_sign.summary())"
   ]
  },
  {
   "cell_type": "markdown",
   "metadata": {},
   "source": []
  },
  {
   "cell_type": "markdown",
   "metadata": {},
   "source": [
    "-------"
   ]
  },
  {
   "cell_type": "markdown",
   "metadata": {
    "tags": [
     "15_min"
    ]
   },
   "source": [
    "### Exercise 6:\n",
    "\n",
    "In addition to the variables in `model_sig`, add terms for:\n",
    "\n",
    "1. square of `age_youngest`\n",
    "2. square term for the age of the car\n",
    "3. interaction term for `car_value` and `age_youngest`\n",
    "\n",
    "and save it to a new model `model_sig_plus`."
   ]
  },
  {
   "cell_type": "markdown",
   "metadata": {
    "tags": [
     "ans_st"
    ]
   },
   "source": [
    "**Answer.**"
   ]
  },
  {
   "cell_type": "code",
   "execution_count": 28,
   "metadata": {},
   "outputs": [
    {
     "data": {
      "text/plain": [
       "'cost ~  group_size + risk_factor + car_value_i + state_AR + state_KS + state_MS + state_MT + state_ND + state_NE + state_NM + state_OR + state_SD + state_WA + state_WY + B_1 + C_2 + C_3 + C_4 + D_2 + D_3 + G_3+  I(age_youngest**2) + I(car_age**2)'"
      ]
     },
     "execution_count": 28,
     "metadata": {},
     "output_type": "execute_result"
    }
   ],
   "source": [
    "formula_sign_plus\n"
   ]
  },
  {
   "cell_type": "code",
   "execution_count": 29,
   "metadata": {},
   "outputs": [
    {
     "name": "stdout",
     "output_type": "stream",
     "text": [
      "                            OLS Regression Results                            \n",
      "==============================================================================\n",
      "Dep. Variable:                   cost   R-squared:                       0.127\n",
      "Model:                            OLS   Adj. R-squared:                  0.126\n",
      "Method:                 Least Squares   F-statistic:                     90.19\n",
      "Date:                Mon, 02 Aug 2021   Prob (F-statistic):               0.00\n",
      "Time:                        02:47:32   Log-Likelihood:                -80637.\n",
      "No. Observations:               15483   AIC:                         1.613e+05\n",
      "Df Residuals:                   15457   BIC:                         1.615e+05\n",
      "Df Model:                          25                                         \n",
      "Covariance Type:            nonrobust                                         \n",
      "============================================================================================\n",
      "                               coef    std err          t      P>|t|      [0.025      0.975]\n",
      "--------------------------------------------------------------------------------------------\n",
      "Intercept                  693.0836      3.082    224.898      0.000     687.043     699.124\n",
      "group_size                  -3.8114      0.791     -4.819      0.000      -5.362      -2.261\n",
      "risk_factor                 -0.0966      0.236     -0.409      0.682      -0.560       0.366\n",
      "car_value_i                 65.2913     18.838      3.466      0.001      28.367     102.216\n",
      "state_AR                    -2.2425      2.831     -0.792      0.428      -7.791       3.306\n",
      "state_KS                   -12.4871      4.409     -2.832      0.005     -21.130      -3.844\n",
      "state_MS                    -7.5127      3.054     -2.460      0.014     -13.498      -1.527\n",
      "state_MT                   -19.8010      6.282     -3.152      0.002     -32.115      -7.487\n",
      "state_ND                    20.4273      6.424      3.180      0.001       7.835      33.019\n",
      "state_NE                   -22.0510      5.690     -3.875      0.000     -33.205     -10.898\n",
      "state_NM                    -8.4938      3.684     -2.305      0.021     -15.715      -1.272\n",
      "state_OR                   -12.1678      2.394     -5.083      0.000     -16.860      -7.476\n",
      "state_SD                   -21.3724     14.776     -1.446      0.148     -50.334       7.589\n",
      "state_WA                    -0.7164      2.003     -0.358      0.721      -4.642       3.209\n",
      "state_WY                   -14.5540      7.296     -1.995      0.046     -28.856      -0.252\n",
      "B_1                         13.8992      0.733     18.960      0.000      12.462      15.336\n",
      "C_2                         -5.1062      1.174     -4.351      0.000      -7.407      -2.806\n",
      "C_3                         -4.4546      1.140     -3.907      0.000      -6.690      -2.220\n",
      "C_4                         -6.5671      1.678     -3.913      0.000      -9.857      -3.277\n",
      "D_2                          6.2051      1.303      4.763      0.000       3.652       8.759\n",
      "D_3                          5.7623      1.340      4.301      0.000       3.136       8.388\n",
      "G_3                         -1.5884      0.837     -1.898      0.058      -3.229       0.052\n",
      "I(age_youngest ** 2)         0.0159      0.001     11.588      0.000       0.013       0.019\n",
      "I(car_age ** 2)             -0.0696      0.003    -27.102      0.000      -0.075      -0.065\n",
      "age_youngest                -2.0437      0.128    -15.975      0.000      -2.294      -1.793\n",
      "car_value_i:age_youngest    -0.4653      0.367     -1.268      0.205      -1.185       0.254\n",
      "==============================================================================\n",
      "Omnibus:                      338.576   Durbin-Watson:                   0.804\n",
      "Prob(Omnibus):                  0.000   Jarque-Bera (JB):              538.598\n",
      "Skew:                           0.216   Prob(JB):                    1.11e-117\n",
      "Kurtosis:                       3.805   Cond. No.                     1.45e+05\n",
      "==============================================================================\n",
      "\n",
      "Notes:\n",
      "[1] Standard Errors assume that the covariance matrix of the errors is correctly specified.\n",
      "[2] The condition number is large, 1.45e+05. This might indicate that there are\n",
      "strong multicollinearity or other numerical problems.\n"
     ]
    }
   ],
   "source": [
    "formula_sign_plus = formula_sign + \"+  I(age_youngest**2) + I(car_age**2) + car_value_i*age_youngest\"\n",
    "\n",
    "model_sign_plus = smf.ols(formula=formula_sign_plus, data= df_encoded).fit()\n",
    "\n",
    "print(model_sign_plus.summary())"
   ]
  },
  {
   "cell_type": "markdown",
   "metadata": {},
   "source": [
    "-------"
   ]
  },
  {
   "cell_type": "markdown",
   "metadata": {},
   "source": [
    "## Feature selection"
   ]
  },
  {
   "cell_type": "markdown",
   "metadata": {},
   "source": [
    "To reduce the number of features, it can often be helpful to aggregate the categories; for example, we can create a new variable by assigning each state to a larger region:"
   ]
  },
  {
   "cell_type": "code",
   "execution_count": 16,
   "metadata": {},
   "outputs": [
    {
     "data": {
      "text/html": [
       "<div>\n",
       "<style scoped>\n",
       "    .dataframe tbody tr th:only-of-type {\n",
       "        vertical-align: middle;\n",
       "    }\n",
       "\n",
       "    .dataframe tbody tr th {\n",
       "        vertical-align: top;\n",
       "    }\n",
       "\n",
       "    .dataframe thead th {\n",
       "        text-align: right;\n",
       "    }\n",
       "</style>\n",
       "<table border=\"1\" class=\"dataframe\">\n",
       "  <thead>\n",
       "    <tr style=\"text-align: right;\">\n",
       "      <th></th>\n",
       "      <th>State</th>\n",
       "      <th>State Code</th>\n",
       "      <th>Region</th>\n",
       "      <th>Division</th>\n",
       "    </tr>\n",
       "  </thead>\n",
       "  <tbody>\n",
       "    <tr>\n",
       "      <th>0</th>\n",
       "      <td>Alaska</td>\n",
       "      <td>AK</td>\n",
       "      <td>West</td>\n",
       "      <td>Pacific</td>\n",
       "    </tr>\n",
       "    <tr>\n",
       "      <th>1</th>\n",
       "      <td>Alabama</td>\n",
       "      <td>AL</td>\n",
       "      <td>South</td>\n",
       "      <td>East South Central</td>\n",
       "    </tr>\n",
       "    <tr>\n",
       "      <th>2</th>\n",
       "      <td>Arkansas</td>\n",
       "      <td>AR</td>\n",
       "      <td>South</td>\n",
       "      <td>West South Central</td>\n",
       "    </tr>\n",
       "    <tr>\n",
       "      <th>3</th>\n",
       "      <td>Arizona</td>\n",
       "      <td>AZ</td>\n",
       "      <td>West</td>\n",
       "      <td>Mountain</td>\n",
       "    </tr>\n",
       "    <tr>\n",
       "      <th>4</th>\n",
       "      <td>California</td>\n",
       "      <td>CA</td>\n",
       "      <td>West</td>\n",
       "      <td>Pacific</td>\n",
       "    </tr>\n",
       "    <tr>\n",
       "      <th>5</th>\n",
       "      <td>Colorado</td>\n",
       "      <td>CO</td>\n",
       "      <td>West</td>\n",
       "      <td>Mountain</td>\n",
       "    </tr>\n",
       "    <tr>\n",
       "      <th>6</th>\n",
       "      <td>Connecticut</td>\n",
       "      <td>CT</td>\n",
       "      <td>Northeast</td>\n",
       "      <td>New England</td>\n",
       "    </tr>\n",
       "    <tr>\n",
       "      <th>7</th>\n",
       "      <td>District of Columbia</td>\n",
       "      <td>DC</td>\n",
       "      <td>South</td>\n",
       "      <td>South Atlantic</td>\n",
       "    </tr>\n",
       "    <tr>\n",
       "      <th>8</th>\n",
       "      <td>Delaware</td>\n",
       "      <td>DE</td>\n",
       "      <td>South</td>\n",
       "      <td>South Atlantic</td>\n",
       "    </tr>\n",
       "    <tr>\n",
       "      <th>9</th>\n",
       "      <td>Florida</td>\n",
       "      <td>FL</td>\n",
       "      <td>South</td>\n",
       "      <td>South Atlantic</td>\n",
       "    </tr>\n",
       "    <tr>\n",
       "      <th>10</th>\n",
       "      <td>Georgia</td>\n",
       "      <td>GA</td>\n",
       "      <td>South</td>\n",
       "      <td>South Atlantic</td>\n",
       "    </tr>\n",
       "    <tr>\n",
       "      <th>11</th>\n",
       "      <td>Hawaii</td>\n",
       "      <td>HI</td>\n",
       "      <td>West</td>\n",
       "      <td>Pacific</td>\n",
       "    </tr>\n",
       "    <tr>\n",
       "      <th>12</th>\n",
       "      <td>Iowa</td>\n",
       "      <td>IA</td>\n",
       "      <td>Midwest</td>\n",
       "      <td>West North Central</td>\n",
       "    </tr>\n",
       "    <tr>\n",
       "      <th>13</th>\n",
       "      <td>Idaho</td>\n",
       "      <td>ID</td>\n",
       "      <td>West</td>\n",
       "      <td>Mountain</td>\n",
       "    </tr>\n",
       "    <tr>\n",
       "      <th>14</th>\n",
       "      <td>Illinois</td>\n",
       "      <td>IL</td>\n",
       "      <td>Midwest</td>\n",
       "      <td>East North Central</td>\n",
       "    </tr>\n",
       "    <tr>\n",
       "      <th>15</th>\n",
       "      <td>Indiana</td>\n",
       "      <td>IN</td>\n",
       "      <td>Midwest</td>\n",
       "      <td>East North Central</td>\n",
       "    </tr>\n",
       "    <tr>\n",
       "      <th>16</th>\n",
       "      <td>Kansas</td>\n",
       "      <td>KS</td>\n",
       "      <td>Midwest</td>\n",
       "      <td>West North Central</td>\n",
       "    </tr>\n",
       "    <tr>\n",
       "      <th>17</th>\n",
       "      <td>Kentucky</td>\n",
       "      <td>KY</td>\n",
       "      <td>South</td>\n",
       "      <td>East South Central</td>\n",
       "    </tr>\n",
       "    <tr>\n",
       "      <th>18</th>\n",
       "      <td>Louisiana</td>\n",
       "      <td>LA</td>\n",
       "      <td>South</td>\n",
       "      <td>West South Central</td>\n",
       "    </tr>\n",
       "    <tr>\n",
       "      <th>19</th>\n",
       "      <td>Massachusetts</td>\n",
       "      <td>MA</td>\n",
       "      <td>Northeast</td>\n",
       "      <td>New England</td>\n",
       "    </tr>\n",
       "    <tr>\n",
       "      <th>20</th>\n",
       "      <td>Maryland</td>\n",
       "      <td>MD</td>\n",
       "      <td>South</td>\n",
       "      <td>South Atlantic</td>\n",
       "    </tr>\n",
       "    <tr>\n",
       "      <th>21</th>\n",
       "      <td>Maine</td>\n",
       "      <td>ME</td>\n",
       "      <td>Northeast</td>\n",
       "      <td>New England</td>\n",
       "    </tr>\n",
       "    <tr>\n",
       "      <th>22</th>\n",
       "      <td>Michigan</td>\n",
       "      <td>MI</td>\n",
       "      <td>Midwest</td>\n",
       "      <td>East North Central</td>\n",
       "    </tr>\n",
       "    <tr>\n",
       "      <th>23</th>\n",
       "      <td>Minnesota</td>\n",
       "      <td>MN</td>\n",
       "      <td>Midwest</td>\n",
       "      <td>West North Central</td>\n",
       "    </tr>\n",
       "    <tr>\n",
       "      <th>24</th>\n",
       "      <td>Missouri</td>\n",
       "      <td>MO</td>\n",
       "      <td>Midwest</td>\n",
       "      <td>West North Central</td>\n",
       "    </tr>\n",
       "    <tr>\n",
       "      <th>25</th>\n",
       "      <td>Mississippi</td>\n",
       "      <td>MS</td>\n",
       "      <td>South</td>\n",
       "      <td>East South Central</td>\n",
       "    </tr>\n",
       "    <tr>\n",
       "      <th>26</th>\n",
       "      <td>Montana</td>\n",
       "      <td>MT</td>\n",
       "      <td>West</td>\n",
       "      <td>Mountain</td>\n",
       "    </tr>\n",
       "    <tr>\n",
       "      <th>27</th>\n",
       "      <td>North Carolina</td>\n",
       "      <td>NC</td>\n",
       "      <td>South</td>\n",
       "      <td>South Atlantic</td>\n",
       "    </tr>\n",
       "    <tr>\n",
       "      <th>28</th>\n",
       "      <td>North Dakota</td>\n",
       "      <td>ND</td>\n",
       "      <td>Midwest</td>\n",
       "      <td>West North Central</td>\n",
       "    </tr>\n",
       "    <tr>\n",
       "      <th>29</th>\n",
       "      <td>Nebraska</td>\n",
       "      <td>NE</td>\n",
       "      <td>Midwest</td>\n",
       "      <td>West North Central</td>\n",
       "    </tr>\n",
       "    <tr>\n",
       "      <th>30</th>\n",
       "      <td>New Hampshire</td>\n",
       "      <td>NH</td>\n",
       "      <td>Northeast</td>\n",
       "      <td>New England</td>\n",
       "    </tr>\n",
       "    <tr>\n",
       "      <th>31</th>\n",
       "      <td>New Jersey</td>\n",
       "      <td>NJ</td>\n",
       "      <td>Northeast</td>\n",
       "      <td>Middle Atlantic</td>\n",
       "    </tr>\n",
       "    <tr>\n",
       "      <th>32</th>\n",
       "      <td>New Mexico</td>\n",
       "      <td>NM</td>\n",
       "      <td>West</td>\n",
       "      <td>Mountain</td>\n",
       "    </tr>\n",
       "    <tr>\n",
       "      <th>33</th>\n",
       "      <td>Nevada</td>\n",
       "      <td>NV</td>\n",
       "      <td>West</td>\n",
       "      <td>Mountain</td>\n",
       "    </tr>\n",
       "    <tr>\n",
       "      <th>34</th>\n",
       "      <td>New York</td>\n",
       "      <td>NY</td>\n",
       "      <td>Northeast</td>\n",
       "      <td>Middle Atlantic</td>\n",
       "    </tr>\n",
       "    <tr>\n",
       "      <th>35</th>\n",
       "      <td>Ohio</td>\n",
       "      <td>OH</td>\n",
       "      <td>Midwest</td>\n",
       "      <td>East North Central</td>\n",
       "    </tr>\n",
       "    <tr>\n",
       "      <th>36</th>\n",
       "      <td>Oklahoma</td>\n",
       "      <td>OK</td>\n",
       "      <td>South</td>\n",
       "      <td>West South Central</td>\n",
       "    </tr>\n",
       "    <tr>\n",
       "      <th>37</th>\n",
       "      <td>Oregon</td>\n",
       "      <td>OR</td>\n",
       "      <td>West</td>\n",
       "      <td>Pacific</td>\n",
       "    </tr>\n",
       "    <tr>\n",
       "      <th>38</th>\n",
       "      <td>Pennsylvania</td>\n",
       "      <td>PA</td>\n",
       "      <td>Northeast</td>\n",
       "      <td>Middle Atlantic</td>\n",
       "    </tr>\n",
       "    <tr>\n",
       "      <th>39</th>\n",
       "      <td>Rhode Island</td>\n",
       "      <td>RI</td>\n",
       "      <td>Northeast</td>\n",
       "      <td>New England</td>\n",
       "    </tr>\n",
       "    <tr>\n",
       "      <th>40</th>\n",
       "      <td>South Carolina</td>\n",
       "      <td>SC</td>\n",
       "      <td>South</td>\n",
       "      <td>South Atlantic</td>\n",
       "    </tr>\n",
       "    <tr>\n",
       "      <th>41</th>\n",
       "      <td>South Dakota</td>\n",
       "      <td>SD</td>\n",
       "      <td>Midwest</td>\n",
       "      <td>West North Central</td>\n",
       "    </tr>\n",
       "    <tr>\n",
       "      <th>42</th>\n",
       "      <td>Tennessee</td>\n",
       "      <td>TN</td>\n",
       "      <td>South</td>\n",
       "      <td>East South Central</td>\n",
       "    </tr>\n",
       "    <tr>\n",
       "      <th>43</th>\n",
       "      <td>Texas</td>\n",
       "      <td>TX</td>\n",
       "      <td>South</td>\n",
       "      <td>West South Central</td>\n",
       "    </tr>\n",
       "    <tr>\n",
       "      <th>44</th>\n",
       "      <td>Utah</td>\n",
       "      <td>UT</td>\n",
       "      <td>West</td>\n",
       "      <td>Mountain</td>\n",
       "    </tr>\n",
       "    <tr>\n",
       "      <th>45</th>\n",
       "      <td>Virginia</td>\n",
       "      <td>VA</td>\n",
       "      <td>South</td>\n",
       "      <td>South Atlantic</td>\n",
       "    </tr>\n",
       "    <tr>\n",
       "      <th>46</th>\n",
       "      <td>Vermont</td>\n",
       "      <td>VT</td>\n",
       "      <td>Northeast</td>\n",
       "      <td>New England</td>\n",
       "    </tr>\n",
       "    <tr>\n",
       "      <th>47</th>\n",
       "      <td>Washington</td>\n",
       "      <td>WA</td>\n",
       "      <td>West</td>\n",
       "      <td>Pacific</td>\n",
       "    </tr>\n",
       "    <tr>\n",
       "      <th>48</th>\n",
       "      <td>Wisconsin</td>\n",
       "      <td>WI</td>\n",
       "      <td>Midwest</td>\n",
       "      <td>East North Central</td>\n",
       "    </tr>\n",
       "    <tr>\n",
       "      <th>49</th>\n",
       "      <td>West Virginia</td>\n",
       "      <td>WV</td>\n",
       "      <td>South</td>\n",
       "      <td>South Atlantic</td>\n",
       "    </tr>\n",
       "    <tr>\n",
       "      <th>50</th>\n",
       "      <td>Wyoming</td>\n",
       "      <td>WY</td>\n",
       "      <td>West</td>\n",
       "      <td>Mountain</td>\n",
       "    </tr>\n",
       "  </tbody>\n",
       "</table>\n",
       "</div>"
      ],
      "text/plain": [
       "                   State State Code     Region            Division\n",
       "0                 Alaska         AK       West             Pacific\n",
       "1                Alabama         AL      South  East South Central\n",
       "2               Arkansas         AR      South  West South Central\n",
       "3                Arizona         AZ       West            Mountain\n",
       "4             California         CA       West             Pacific\n",
       "5               Colorado         CO       West            Mountain\n",
       "6            Connecticut         CT  Northeast         New England\n",
       "7   District of Columbia         DC      South      South Atlantic\n",
       "8               Delaware         DE      South      South Atlantic\n",
       "9                Florida         FL      South      South Atlantic\n",
       "10               Georgia         GA      South      South Atlantic\n",
       "11                Hawaii         HI       West             Pacific\n",
       "12                  Iowa         IA    Midwest  West North Central\n",
       "13                 Idaho         ID       West            Mountain\n",
       "14              Illinois         IL    Midwest  East North Central\n",
       "15               Indiana         IN    Midwest  East North Central\n",
       "16                Kansas         KS    Midwest  West North Central\n",
       "17              Kentucky         KY      South  East South Central\n",
       "18             Louisiana         LA      South  West South Central\n",
       "19         Massachusetts         MA  Northeast         New England\n",
       "20              Maryland         MD      South      South Atlantic\n",
       "21                 Maine         ME  Northeast         New England\n",
       "22              Michigan         MI    Midwest  East North Central\n",
       "23             Minnesota         MN    Midwest  West North Central\n",
       "24              Missouri         MO    Midwest  West North Central\n",
       "25           Mississippi         MS      South  East South Central\n",
       "26               Montana         MT       West            Mountain\n",
       "27        North Carolina         NC      South      South Atlantic\n",
       "28          North Dakota         ND    Midwest  West North Central\n",
       "29              Nebraska         NE    Midwest  West North Central\n",
       "30         New Hampshire         NH  Northeast         New England\n",
       "31            New Jersey         NJ  Northeast     Middle Atlantic\n",
       "32            New Mexico         NM       West            Mountain\n",
       "33                Nevada         NV       West            Mountain\n",
       "34              New York         NY  Northeast     Middle Atlantic\n",
       "35                  Ohio         OH    Midwest  East North Central\n",
       "36              Oklahoma         OK      South  West South Central\n",
       "37                Oregon         OR       West             Pacific\n",
       "38          Pennsylvania         PA  Northeast     Middle Atlantic\n",
       "39          Rhode Island         RI  Northeast         New England\n",
       "40        South Carolina         SC      South      South Atlantic\n",
       "41          South Dakota         SD    Midwest  West North Central\n",
       "42             Tennessee         TN      South  East South Central\n",
       "43                 Texas         TX      South  West South Central\n",
       "44                  Utah         UT       West            Mountain\n",
       "45              Virginia         VA      South      South Atlantic\n",
       "46               Vermont         VT  Northeast         New England\n",
       "47            Washington         WA       West             Pacific\n",
       "48             Wisconsin         WI    Midwest  East North Central\n",
       "49         West Virginia         WV      South      South Atlantic\n",
       "50               Wyoming         WY       West            Mountain"
      ]
     },
     "execution_count": 16,
     "metadata": {},
     "output_type": "execute_result"
    }
   ],
   "source": [
    "state_regions = pd.read_csv('https://raw.githubusercontent.com/cphalpert/census-regions/master/us%20census%20bureau%20regions%20and%20divisions.csv')\n",
    "# should download the above file\n",
    "state_regions"
   ]
  },
  {
   "cell_type": "markdown",
   "metadata": {
    "tags": [
     "20_min"
    ]
   },
   "source": [
    "### Exercise 7:\n",
    "\n",
    "#### 7.1\n",
    "\n",
    "Create a new column where a state is replaced with the region it is in according to the above table."
   ]
  },
  {
   "cell_type": "markdown",
   "metadata": {
    "tags": [
     "ans_st"
    ]
   },
   "source": [
    "**Answer.**"
   ]
  },
  {
   "cell_type": "markdown",
   "metadata": {},
   "source": [
    "-------"
   ]
  },
  {
   "cell_type": "markdown",
   "metadata": {},
   "source": [
    "#### 7.2\n",
    "\n",
    "Fit the model as in `model_sig_plus` but this time use `region` instead of `state`. Call this `model_region`."
   ]
  },
  {
   "cell_type": "markdown",
   "metadata": {
    "tags": [
     "ans_st"
    ]
   },
   "source": [
    "**Answer.**"
   ]
  },
  {
   "cell_type": "markdown",
   "metadata": {},
   "source": [
    "-------"
   ]
  },
  {
   "cell_type": "markdown",
   "metadata": {
    "tags": [
     "40_min"
    ]
   },
   "source": [
    "### Exercise 8:\n",
    "\n",
    "#### 8.1\n",
    "\n",
    "What should we do next to minimize features?"
   ]
  },
  {
   "cell_type": "markdown",
   "metadata": {
    "tags": [
     "ans_st"
    ]
   },
   "source": [
    "**Answer.**"
   ]
  },
  {
   "cell_type": "markdown",
   "metadata": {},
   "source": [
    "-------"
   ]
  },
  {
   "cell_type": "markdown",
   "metadata": {},
   "source": [
    "#### 8.2\n",
    "\n",
    "Using a method of your choice, find the numerical feature(s) in `model_region`, except for the three we added in Exercise 6, which exhibit multicollinearity. **Hint:** consider looking at correlations."
   ]
  },
  {
   "cell_type": "markdown",
   "metadata": {
    "tags": [
     "ans_st"
    ]
   },
   "source": [
    "**Answer.**"
   ]
  },
  {
   "cell_type": "markdown",
   "metadata": {},
   "source": [
    "-------"
   ]
  },
  {
   "cell_type": "markdown",
   "metadata": {},
   "source": [
    "#### 8.3:\n",
    "\n",
    "Refit `model_region` after dropping these redundant predictor(s); call this `model_region_no_oldest`."
   ]
  },
  {
   "cell_type": "markdown",
   "metadata": {
    "tags": [
     "ans_st"
    ]
   },
   "source": [
    "**Answer.**"
   ]
  },
  {
   "cell_type": "markdown",
   "metadata": {},
   "source": [
    "-------"
   ]
  },
  {
   "cell_type": "markdown",
   "metadata": {},
   "source": [
    "#### 8.4\n",
    "\n",
    "What would you do to diagnose the `model_region_no_oldest` fit? What does this diagnosis suggest to you? (Hint: try plotting the residuals in various ways.)"
   ]
  },
  {
   "cell_type": "markdown",
   "metadata": {
    "tags": [
     "ans_st"
    ]
   },
   "source": [
    "**Answer.**"
   ]
  },
  {
   "cell_type": "markdown",
   "metadata": {},
   "source": [
    "-------"
   ]
  },
  {
   "cell_type": "markdown",
   "metadata": {
    "tags": [
     "25_min"
    ]
   },
   "source": [
    "### Exercise 9:\n",
    "\n",
    "#### 9.1\n",
    "\n",
    "Find the best Box-Cox transformation of `cost` used to fit `model_region_no_oldest`. What value do you get?"
   ]
  },
  {
   "cell_type": "markdown",
   "metadata": {
    "tags": [
     "ans_st"
    ]
   },
   "source": [
    "**Answer.**"
   ]
  },
  {
   "cell_type": "markdown",
   "metadata": {},
   "source": [
    "-------"
   ]
  },
  {
   "cell_type": "markdown",
   "metadata": {},
   "source": [
    "#### 9.2\n",
    "\n",
    "Refit `model_region_no_oldest`, but now with the transformation as suggested by the Box-Cox. Call it `model_region_no_oldest_box_cox`."
   ]
  },
  {
   "cell_type": "markdown",
   "metadata": {
    "tags": [
     "ans_st"
    ]
   },
   "source": [
    "**Answer.**"
   ]
  },
  {
   "cell_type": "markdown",
   "metadata": {},
   "source": [
    "-------"
   ]
  },
  {
   "cell_type": "markdown",
   "metadata": {},
   "source": [
    "## Conclusion\n",
    "\n",
    "In this, you practiced creating linear models using `statsmodels` and iteratively trimming the input variables to go from including all the variables in the dataset to using only the most relevant variables. You excluded those variables that were statistically insignificant and removed those that had high correlation. Finally, we performed some feature engineering in an attempt to remove some tail behavior that deviates from the normal distribution to better fit our linear model. In the end, we had a very minimal model that contained variables that other insurance companies use to charge premiums that gave us insight on how we can better serve a niche population. "
   ]
  }
 ],
 "metadata": {
  "c1_recart": "6.10.0-57c20131aabc1dc2a8c675852d80a7da",
  "kernelspec": {
   "display_name": "Python 3",
   "language": "python",
   "name": "python3"
  },
  "language_info": {
   "codemirror_mode": {
    "name": "ipython",
    "version": 3
   },
   "file_extension": ".py",
   "mimetype": "text/x-python",
   "name": "python",
   "nbconvert_exporter": "python",
   "pygments_lexer": "ipython3",
   "version": "3.8.8"
  },
  "varInspector": {
   "cols": {
    "lenName": 16,
    "lenType": 16,
    "lenVar": 40
   },
   "kernels_config": {
    "python": {
     "delete_cmd_postfix": "",
     "delete_cmd_prefix": "del ",
     "library": "var_list.py",
     "varRefreshCmd": "print(var_dic_list())"
    },
    "r": {
     "delete_cmd_postfix": ") ",
     "delete_cmd_prefix": "rm(",
     "library": "var_list.r",
     "varRefreshCmd": "cat(var_dic_list()) "
    }
   },
   "types_to_exclude": [
    "module",
    "function",
    "builtin_function_or_method",
    "instance",
    "_Feature"
   ],
   "window_display": false
  }
 },
 "nbformat": 4,
 "nbformat_minor": 2
}
